{
 "metadata": {
  "language_info": {
   "codemirror_mode": {
    "name": "ipython",
    "version": 3
   },
   "file_extension": ".py",
   "mimetype": "text/x-python",
   "name": "python",
   "nbconvert_exporter": "python",
   "pygments_lexer": "ipython3",
   "version": "3.8.8"
  },
  "orig_nbformat": 2,
  "kernelspec": {
   "name": "python388jvsc74a57bd0915e36cd6b6dd75b40ca0abb93570bcf58d329ed6a68c1ca68dc2086442c841a",
   "display_name": "Python 3.8.8 64-bit ('base': conda)"
  }
 },
 "nbformat": 4,
 "nbformat_minor": 2,
 "cells": [
  {
   "cell_type": "code",
   "execution_count": 1,
   "metadata": {},
   "outputs": [
    {
     "output_type": "stream",
     "name": "stdout",
     "text": [
      "[['a', 2], ['b', 1], ['c', 1], ['d', 1]]\n{'a': 2, 'b': 1, 'c': 1, 'd': 1}\n"
     ]
    }
   ],
   "source": [
    "string = 'abacd'\n",
    "num_letters_list = []\n",
    "num_letters_dict = {}\n",
    "# for i in range(len(string)):\n",
    "while len(string):\n",
    "    i = 0\n",
    "    current_letter = string[i]\n",
    "    counter = 1\n",
    "    for j in string[i+1::]:\n",
    "        if current_letter == j:\n",
    "            counter = counter + 1\n",
    "        # end if\n",
    "    # end for\n",
    "    string = string.replace(current_letter, '')\n",
    "    num_letters_list.append([current_letter, counter])\n",
    "    num_letters_dict[current_letter] = counter\n",
    "# end for\n",
    "print(num_letters_list)\n",
    "print(num_letters_dict)"
   ]
  },
  {
   "cell_type": "code",
   "execution_count": 73,
   "metadata": {},
   "outputs": [],
   "source": [
    "word_file = open('C:\\\\Users\\\\gumas\\\\OneDrive\\\\Documents\\\\KSHITI\\\\electronics and python\\\\words.txt')"
   ]
  },
  {
   "cell_type": "code",
   "execution_count": 74,
   "metadata": {
    "tags": []
   },
   "outputs": [],
   "source": [
    "word_list = []\n",
    "word_dict = {}\n",
    "for l in word_file:\n",
    "    l = l.strip()\n",
    "    word_list.append(l)\n",
    "    word_dict[l] = 0\n",
    "#  end for\n",
    "# print(word_list)\n",
    "# print(word_dict)"
   ]
  },
  {
   "cell_type": "code",
   "execution_count": 78,
   "metadata": {},
   "outputs": [
    {
     "output_type": "stream",
     "name": "stdout",
     "text": [
      "yes\n"
     ]
    }
   ],
   "source": [
    "word = 'wizard'\n",
    "if word in word_list:\n",
    "    print('yes')\n",
    "else:\n",
    "    print('no')"
   ]
  },
  {
   "cell_type": "code",
   "execution_count": 79,
   "metadata": {},
   "outputs": [
    {
     "output_type": "stream",
     "name": "stdout",
     "text": [
      "yes\n"
     ]
    }
   ],
   "source": [
    "if word in word_dict:\n",
    "    print('yes')\n",
    "else:\n",
    "    print('no')"
   ]
  },
  {
   "cell_type": "code",
   "execution_count": null,
   "metadata": {},
   "outputs": [],
   "source": [
    "def has_duplicates(t):\n",
    "    d = {}\n",
    "    for x in t:\n",
    "        if x in d:\n",
    "            return True\n",
    "        d[x] = True\n",
    "    return False"
   ]
  },
  {
   "cell_type": "code",
   "execution_count": 6,
   "metadata": {},
   "outputs": [],
   "source": [
    "def has_reverse_word(t):\n",
    "    d = {}\n",
    "    ret_list = []\n",
    "    for x in t:\n",
    "        rev_word = x[::-1]\n",
    "        if rev_word in d:\n",
    "            my_list = [x, rev_word]\n",
    "            ret_list.append(my_list)\n",
    "        d[x] = 0\n",
    "    return ret_list"
   ]
  },
  {
   "cell_type": "code",
   "execution_count": 7,
   "metadata": {},
   "outputs": [
    {
     "output_type": "stream",
     "name": "stdout",
     "text": [
      "[['cba', 'abc'], ['ihg', 'ghi']]\n"
     ]
    }
   ],
   "source": [
    "word_list = ['abc', 'def', 'ghi', 'jkl', 'cba', 'ihg']\n",
    "res = has_reverse_word(word_list)\n",
    "print(res)"
   ]
  }
 ]
}