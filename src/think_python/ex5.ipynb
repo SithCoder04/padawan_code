{
 "metadata": {
  "language_info": {
   "codemirror_mode": {
    "name": "ipython",
    "version": 3
   },
   "file_extension": ".py",
   "mimetype": "text/x-python",
   "name": "python",
   "nbconvert_exporter": "python",
   "pygments_lexer": "ipython3",
   "version": "3.8.8"
  },
  "orig_nbformat": 2,
  "kernelspec": {
   "name": "python388jvsc74a57bd0915e36cd6b6dd75b40ca0abb93570bcf58d329ed6a68c1ca68dc2086442c841a",
   "display_name": "Python 3.8.8 64-bit ('base': conda)"
  }
 },
 "nbformat": 4,
 "nbformat_minor": 2,
 "cells": [
  {
   "cell_type": "code",
   "execution_count": null,
   "metadata": {},
   "outputs": [],
   "source": [
    "a = 1\n",
    "b = 5\n",
    "c = 5\n",
    "if a == (b == c):\n",
    "    print('true')\n",
    "else:\n",
    "    print('false')"
   ]
  },
  {
   "cell_type": "code",
   "execution_count": null,
   "metadata": {},
   "outputs": [],
   "source": [
    "n = 10"
   ]
  },
  {
   "cell_type": "code",
   "execution_count": null,
   "metadata": {},
   "outputs": [],
   "source": [
    "def print_n(n):\n",
    "    # my_list = []\n",
    "    for i in range(n, 0, -1):\n",
    "        print(i)\n",
    "        # my_list.append(i)\n",
    "    # end for\n",
    "    return # my_list"
   ]
  },
  {
   "cell_type": "code",
   "execution_count": null,
   "metadata": {},
   "outputs": [],
   "source": [
    "print_n(n)\n",
    "# print(my_list)"
   ]
  },
  {
   "cell_type": "code",
   "execution_count": null,
   "metadata": {},
   "outputs": [],
   "source": [
    "def print_n(n):\n",
    "    if n >= 0:\n",
    "        print(n)\n",
    "        print('Calling: {}'.format(n-1))\n",
    "        print_n(n - 1)\n",
    "        \n",
    "    else:\n",
    "        pass # DO NOTHING\n",
    "    # end if\n",
    "    print('Returning from: {}'.format(n))\n",
    "    return"
   ]
  },
  {
   "cell_type": "code",
   "execution_count": null,
   "metadata": {},
   "outputs": [],
   "source": [
    "print_n(5)"
   ]
  },
  {
   "cell_type": "code",
   "execution_count": null,
   "metadata": {},
   "outputs": [],
   "source": [
    "def check_fermat(a, b, c, n):\n",
    "    a_expo_val = a ** n\n",
    "    b_expo_val = b ** n\n",
    "    c_expo_val = c ** n\n",
    "    if (a_expo_val + b_expo_val) == c_expo_val:\n",
    "        print('Holy smokes, Fermat was wrong!')\n",
    "    else:\n",
    "        print('No, that doesn''t work')\n",
    "    # end if\n",
    "    return"
   ]
  },
  {
   "cell_type": "code",
   "execution_count": null,
   "metadata": {},
   "outputs": [],
   "source": [
    "check_fermat(8, 6, 10, 3)"
   ]
  },
  {
   "cell_type": "code",
   "execution_count": null,
   "metadata": {},
   "outputs": [],
   "source": [
    "def is_triangle(s1, s2, s3):\n",
    "    sum1 = s1 + s2\n",
    "    sum2 = s2 + s3\n",
    "    sum3 = s3 + s1\n",
    "    if (sum1 > s3) and (sum2 > s1) and (sum3 > s2):\n",
    "        print('Yes')\n",
    "    else:\n",
    "        print('No')\n",
    "    # end if\n",
    "    return"
   ]
  },
  {
   "cell_type": "code",
   "execution_count": null,
   "metadata": {},
   "outputs": [],
   "source": [
    "is_triangle(1, 1, 12)"
   ]
  },
  {
   "cell_type": "code",
   "execution_count": 8,
   "metadata": {},
   "outputs": [],
   "source": [
    "def recurse(n, s):\n",
    "    if n < 0:\n",
    "        print('You cannot enter negative numbers')\n",
    "    elif n == 0:\n",
    "        print(s)\n",
    "    else:\n",
    "        recurse(n - 1, n + s)\n",
    "    # end if\n",
    "    return"
   ]
  },
  {
   "cell_type": "code",
   "execution_count": 10,
   "metadata": {},
   "outputs": [
    {
     "output_type": "stream",
     "name": "stdout",
     "text": [
      "6\n"
     ]
    }
   ],
   "source": [
    "recurse(3, 0)"
   ]
  },
  {
   "cell_type": "code",
   "execution_count": null,
   "metadata": {},
   "outputs": [],
   "source": []
  }
 ]
}