{
 "metadata": {
  "language_info": {
   "codemirror_mode": {
    "name": "ipython",
    "version": 3
   },
   "file_extension": ".py",
   "mimetype": "text/x-python",
   "name": "python",
   "nbconvert_exporter": "python",
   "pygments_lexer": "ipython3",
   "version": "3.8.8"
  },
  "orig_nbformat": 2,
  "kernelspec": {
   "name": "python388jvsc74a57bd0915e36cd6b6dd75b40ca0abb93570bcf58d329ed6a68c1ca68dc2086442c841a",
   "display_name": "Python 3.8.8 64-bit ('base': conda)"
  }
 },
 "nbformat": 4,
 "nbformat_minor": 2,
 "cells": [
  {
   "cell_type": "code",
   "execution_count": null,
   "metadata": {},
   "outputs": [],
   "source": [
    "# open and read the file\n",
    "my_file = open('C:\\\\Users\\\\gumas\\\\OneDrive\\\\Documents\\\\KSHITI\\\\code\\\\my_file.txt')\n",
    "# create a list of the sentences\n",
    "lines = []\n",
    "for l in my_file:\n",
    "    l = l.lower() # convert to lowercase\n",
    "    l = l.strip() # remove \n",
    "    l.strip('â€“')\n",
    "    l = l.rstrip('.')\n",
    "    lines.append(l)\n",
    "# end for\n",
    "# create a list of words \n",
    "words = []\n",
    "for l in lines:\n",
    "    split_line = l.split()\n",
    "    words.append(split_line)\n",
    "# end for\n",
    "print(words)"
   ]
  },
  {
   "cell_type": "code",
   "execution_count": null,
   "metadata": {},
   "outputs": [],
   "source": [
    "import string"
   ]
  },
  {
   "cell_type": "code",
   "execution_count": null,
   "metadata": {},
   "outputs": [],
   "source": [
    "p_symbols = string.punctuation"
   ]
  },
  {
   "cell_type": "code",
   "execution_count": null,
   "metadata": {},
   "outputs": [],
   "source": [
    "s = 'abc!!..,,xyz'"
   ]
  },
  {
   "cell_type": "code",
   "execution_count": null,
   "metadata": {},
   "outputs": [],
   "source": [
    "s.strip(p_symbols)"
   ]
  },
  {
   "cell_type": "code",
   "execution_count": 34,
   "metadata": {},
   "outputs": [],
   "source": [
    "my_book_file = open('C:\\\\Users\\\\gumas\\\\OneDrive\\\\Documents\\\\KSHITI\\\\electronics and python\\\\tale_of_two_cities_abc.txt', 'w')\n",
    "line1 = 'I love reading books'\n",
    "my_book_file.write(str(1.43))\n",
    "my_book_file.close()"
   ]
  },
  {
   "cell_type": "code",
   "execution_count": 35,
   "metadata": {},
   "outputs": [],
   "source": [
    "import os"
   ]
  },
  {
   "cell_type": "code",
   "execution_count": 39,
   "metadata": {},
   "outputs": [
    {
     "output_type": "execute_result",
     "data": {
      "text/plain": [
       "'c:\\\\Users\\\\gumas\\\\OneDrive\\\\Documents\\\\KSHITI\\\\code\\\\think_python'"
      ]
     },
     "metadata": {},
     "execution_count": 39
    }
   ],
   "source": [
    "os.getcwd()"
   ]
  },
  {
   "cell_type": "code",
   "execution_count": 9,
   "metadata": {},
   "outputs": [],
   "source": [
    "import random"
   ]
  },
  {
   "cell_type": "code",
   "execution_count": 25,
   "metadata": {},
   "outputs": [
    {
     "output_type": "stream",
     "name": "stdout",
     "text": [
      "0.63 102  1\n0.57 108  4\n0.42 110  5\n0.25 100  2\n0.32 104  3\n0.05 100  4\n0.85 109  2\n0.99 103  2\n0.50 104  3\n0.04 101  1\n"
     ]
    }
   ],
   "source": [
    "for i in range(10):\n",
    "    x = random.random()\n",
    "    y = random.randint(100, 110)\n",
    "    z = random.choice([1, 2, 3, 4, 5])\n",
    "    print('{:4.2f} {:3d} {:2d}'.format(x, y, z))"
   ]
  },
  {
   "cell_type": "code",
   "execution_count": null,
   "metadata": {},
   "outputs": [],
   "source": []
  }
 ]
}