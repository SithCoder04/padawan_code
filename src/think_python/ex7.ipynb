{
 "metadata": {
  "language_info": {
   "codemirror_mode": {
    "name": "ipython",
    "version": 3
   },
   "file_extension": ".py",
   "mimetype": "text/x-python",
   "name": "python",
   "nbconvert_exporter": "python",
   "pygments_lexer": "ipython3",
   "version": "3.8.8"
  },
  "orig_nbformat": 2,
  "kernelspec": {
   "name": "python388jvsc74a57bd0915e36cd6b6dd75b40ca0abb93570bcf58d329ed6a68c1ca68dc2086442c841a",
   "display_name": "Python 3.8.8 64-bit ('base': conda)"
  }
 },
 "nbformat": 4,
 "nbformat_minor": 2,
 "cells": [
  {
   "cell_type": "code",
   "execution_count": null,
   "metadata": {},
   "outputs": [],
   "source": [
    "s = 'kshiti'\n",
    "print(s)\n",
    "print(len(s))\n",
    "print(s[-1])"
   ]
  },
  {
   "cell_type": "code",
   "execution_count": null,
   "metadata": {},
   "outputs": [],
   "source": [
    "s = s + 'abcd'\n",
    "print(s)"
   ]
  },
  {
   "cell_type": "code",
   "execution_count": null,
   "metadata": {},
   "outputs": [],
   "source": [
    "alphabet = ['a', 'b', 'c', 'd', 'e', 'f', 'g', 'h', 'i', 'j', 'k', 'l', 'm', 'n', 'o', 'p', 'q', 'r', 's', 't', 'u', 'v', 'w', 'x', 'y', 'z']"
   ]
  },
  {
   "cell_type": "code",
   "execution_count": null,
   "metadata": {},
   "outputs": [],
   "source": [
    "def rotate_word(word, rotation, alphabet):\n",
    "    result = ''\n",
    "    for l in word:\n",
    "        for i in range(len(alphabet)):\n",
    "            if l == alphabet[i]:\n",
    "                new_index = i + rotation\n",
    "                if new_index >= len(alphabet):\n",
    "                    new_index = new_index - len(alphabet)\n",
    "                    new_letter = alphabet[new_index]\n",
    "                    result = result + new_letter\n",
    "                else:\n",
    "                    new_letter = alphabet[new_index]\n",
    "                    result = result + new_letter\n",
    "                # end if\n",
    "            # end if\n",
    "        # end for\n",
    "    # end for\n",
    "    return result"
   ]
  },
  {
   "cell_type": "code",
   "execution_count": null,
   "metadata": {},
   "outputs": [],
   "source": [
    "result = rotate_word('xyz', 2, alphabet)\n",
    "print(result)"
   ]
  },
  {
   "cell_type": "code",
   "execution_count": null,
   "metadata": {},
   "outputs": [],
   "source": [
    "alphabet = 'abcde'\n",
    "word = 'abcd'\n",
    "rotate_number = 1"
   ]
  },
  {
   "cell_type": "code",
   "execution_count": null,
   "metadata": {},
   "outputs": [],
   "source": [
    "def rotate_word_recurse(word, rotate_number, alphabet):\n",
    "    result = ''\n",
    "    for l in word:\n",
    "        for i in range(len(alphabet)):\n",
    "            if l == alphabet[i]:\n",
    "                \n",
    "            var = rotate_word_recurse(l, rotate_number, alphabet)\n",
    "    return result"
   ]
  },
  {
   "cell_type": "code",
   "execution_count": null,
   "metadata": {},
   "outputs": [],
   "source": [
    "result = rotate_word_recurse(word, rotate_number, alphabet)\n",
    "print(result)"
   ]
  }
 ]
}