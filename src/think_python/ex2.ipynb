{
 "metadata": {
  "language_info": {
   "codemirror_mode": {
    "name": "ipython",
    "version": 3
   },
   "file_extension": ".py",
   "mimetype": "text/x-python",
   "name": "python",
   "nbconvert_exporter": "python",
   "pygments_lexer": "ipython3",
   "version": "3.8.8"
  },
  "orig_nbformat": 2,
  "kernelspec": {
   "name": "python388jvsc74a57bd0915e36cd6b6dd75b40ca0abb93570bcf58d329ed6a68c1ca68dc2086442c841a",
   "display_name": "Python 3.8.8 64-bit ('base': conda)"
  }
 },
 "nbformat": 4,
 "nbformat_minor": 2,
 "cells": [
  {
   "cell_type": "code",
   "execution_count": 1,
   "metadata": {},
   "outputs": [
    {
     "output_type": "error",
     "ename": "SyntaxError",
     "evalue": "cannot assign to literal (<ipython-input-1-f0c37ed646fc>, line 1)",
     "traceback": [
      "\u001b[1;36m  File \u001b[1;32m\"<ipython-input-1-f0c37ed646fc>\"\u001b[1;36m, line \u001b[1;32m1\u001b[0m\n\u001b[1;33m    42 = n\u001b[0m\n\u001b[1;37m    ^\u001b[0m\n\u001b[1;31mSyntaxError\u001b[0m\u001b[1;31m:\u001b[0m cannot assign to literal\n"
     ]
    }
   ],
   "source": [
    "42 = n"
   ]
  },
  {
   "cell_type": "code",
   "execution_count": 10,
   "metadata": {},
   "outputs": [
    {
     "output_type": "stream",
     "name": "stdout",
     "text": [
      "2\n2\n"
     ]
    }
   ],
   "source": [
    "x = y = 2\n",
    "print(x)\n",
    "print(y)"
   ]
  },
  {
   "cell_type": "code",
   "execution_count": 23,
   "metadata": {},
   "outputs": [
    {
     "output_type": "stream",
     "name": "stdout",
     "text": [
      "10\n7\n"
     ]
    }
   ],
   "source": [
    "var = 10\n",
    "a = 7\n",
    "print(var)\n",
    "print(a)"
   ]
  },
  {
   "cell_type": "code",
   "execution_count": 24,
   "metadata": {},
   "outputs": [
    {
     "output_type": "execute_result",
     "data": {
      "text/plain": [
       "50"
      ]
     },
     "metadata": {},
     "execution_count": 24
    }
   ],
   "source": [
    "x = 10\n",
    "y = 5\n",
    "x * y"
   ]
  },
  {
   "cell_type": "code",
   "execution_count": 26,
   "metadata": {},
   "outputs": [],
   "source": [
    "import math"
   ]
  },
  {
   "cell_type": "code",
   "execution_count": 27,
   "metadata": {},
   "outputs": [
    {
     "output_type": "stream",
     "name": "stdout",
     "text": [
      "523.5987755982989\n523.5987755982989\n523.5987755982989\n"
     ]
    }
   ],
   "source": [
    "radius = 5\n",
    "volume = (4/3) * math.pi * radius * radius * radius\n",
    "print(volume)\n",
    "volume = (float(4)/3) * math.pi * (radius ** 3)\n",
    "print(volume)\n",
    "volume = (float(4)/3) * math.pi * math.pow(radius, 3)\n",
    "print(volume)"
   ]
  },
  {
   "cell_type": "code",
   "execution_count": 44,
   "metadata": {},
   "outputs": [
    {
     "output_type": "stream",
     "name": "stdout",
     "text": [
      "Cost price: 646.05\nSelling price: 1497.00\nProfit: 850.95\n"
     ]
    }
   ],
   "source": [
    "book_price = 24.95\n",
    "discount = 40 / 100\n",
    "shipping_costs_first_copy = 3\n",
    "additional_copy = 75 / 100\n",
    "tot_no_of_copies = 60\n",
    "wholesale_cost = ((book_price * discount) * tot_no_of_copies) + (shipping_costs_first_copy) + ((tot_no_of_copies - 1) * additional_copy)\n",
    "selling_price = book_price * tot_no_of_copies\n",
    "profit = selling_price - wholesale_cost\n",
    "print('Cost price: {:3.2f}'.format(wholesale_cost))\n",
    "print('Selling price: {:3.2f}'.format(selling_price))\n",
    "print('Profit: {:3.2f}'.format(profit))"
   ]
  },
  {
   "cell_type": "code",
   "execution_count": null,
   "metadata": {},
   "outputs": [],
   "source": [
    "start_hour = 6\n",
    "star_minute = 52\n",
    "start_sec = 0\n",
    "first_lap = 495\n",
    "second_lap = 1296\n",
    "third_lap = 495\n",
    "total_jog_time = first_lap + second_lap + third_lap\n",
    "total_time_minutes = int(total_jog_time / 60)\n",
    "total_time_sec = total_jog_time % 60\n",
    "reach_home_seconds = start_sec"
   ]
  },
  {
   "cell_type": "code",
   "execution_count": 9,
   "metadata": {},
   "outputs": [],
   "source": [
    "import datetime"
   ]
  },
  {
   "cell_type": "code",
   "execution_count": 24,
   "metadata": {},
   "outputs": [
    {
     "output_type": "stream",
     "name": "stdout",
     "text": [
      "0:08:15\n0:21:36\n0:08:15\n6:52:00\n0:38:06\n7:30:06\n"
     ]
    }
   ],
   "source": [
    "start_time = datetime.timedelta(hours=6, minutes=52)\n",
    "lap_one = datetime.timedelta(minutes=8, seconds=15)\n",
    "lap_two = datetime.timedelta(minutes=7, seconds=12) * 3\n",
    "lap_three = datetime.timedelta(minutes=8, seconds=15)\n",
    "print(lap_one)\n",
    "print(lap_two)\n",
    "print(lap_three)\n",
    "print(start_time)\n",
    "total_jog_time = lap_one + lap_two + lap_three\n",
    "print(total_jog_time)\n",
    "end_time = start_time + total_jog_time\n",
    "print(end_time)"
   ]
  },
  {
   "cell_type": "code",
   "execution_count": null,
   "metadata": {},
   "outputs": [],
   "source": []
  }
 ]
}