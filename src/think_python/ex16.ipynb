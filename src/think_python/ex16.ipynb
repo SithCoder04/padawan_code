{
 "metadata": {
  "language_info": {
   "codemirror_mode": {
    "name": "ipython",
    "version": 3
   },
   "file_extension": ".py",
   "mimetype": "text/x-python",
   "name": "python",
   "nbconvert_exporter": "python",
   "pygments_lexer": "ipython3",
   "version": "3.8.8"
  },
  "orig_nbformat": 4,
  "kernelspec": {
   "name": "python3",
   "display_name": "Python 3.8.8 64-bit ('base': conda)"
  },
  "interpreter": {
   "hash": "915e36cd6b6dd75b40ca0abb93570bcf58d329ed6a68c1ca68dc2086442c841a"
  }
 },
 "nbformat": 4,
 "nbformat_minor": 2,
 "cells": [
  {
   "cell_type": "code",
   "execution_count": null,
   "metadata": {},
   "outputs": [],
   "source": [
    "class Time:\n",
    "    def print_time(time):\n",
    "        print('{}:{}:{}'.format(time.hour, time.minute, time.second))"
   ]
  },
  {
   "cell_type": "code",
   "execution_count": null,
   "metadata": {},
   "outputs": [],
   "source": [
    "start = Time()\n",
    "start.hour = 15\n",
    "start.minute = 52\n",
    "start.second = 00"
   ]
  },
  {
   "cell_type": "code",
   "execution_count": null,
   "metadata": {},
   "outputs": [],
   "source": [
    "Time.print_time(start)\n",
    "start.print_time()"
   ]
  },
  {
   "cell_type": "code",
   "execution_count": 38,
   "metadata": {},
   "outputs": [],
   "source": [
    "class Girl:\n",
    "    def __init__(self, book_list, name):\n",
    "        self.books = book_list\n",
    "        self.name = name\n",
    "\n",
    "    def print_books(self, msg):\n",
    "        print('{}: {}'.format(msg, self.books))\n",
    "    \n",
    "    def print_name(self):\n",
    "        print(self.name)\n",
    "\n",
    "    def __str__(self):\n",
    "        return '{}: {}'.format(self.name, self.books)"
   ]
  },
  {
   "cell_type": "code",
   "execution_count": 40,
   "metadata": {},
   "outputs": [
    {
     "output_type": "stream",
     "name": "stdout",
     "text": [
      "msg1: ['a', 'b', 'c']\nmsgK: ['a', 'b', 'c']\nkshiti\nmsgS: ['d', 'e', 'f']\nsmriti\n"
     ]
    }
   ],
   "source": [
    "kshiti = Girl(['a', 'b', 'c'], 'kshiti')\n",
    "smriti = Girl(['d', 'e', 'f'], 'smriti')\n",
    "'''\n",
    "print(kshiti.books)\n",
    "print(smriti.books)\n",
    "print_books(kshiti)\n",
    "print_books(smriti)\n",
    "'''\n",
    "Girl.print_books(kshiti, 'msg1')\n",
    "kshiti.print_books('msgK')\n",
    "kshiti.print_name()\n",
    "smriti.print_books('msgS')\n",
    "smriti.print_name()"
   ]
  },
  {
   "cell_type": "code",
   "execution_count": 42,
   "metadata": {},
   "outputs": [
    {
     "output_type": "stream",
     "name": "stdout",
     "text": [
      "kshiti: ['a', 'b', 'c']\nsmriti: ['d', 'e', 'f']\n"
     ]
    }
   ],
   "source": [
    "print(kshiti)\n",
    "print(smriti)"
   ]
  },
  {
   "cell_type": "code",
   "execution_count": 48,
   "metadata": {},
   "outputs": [],
   "source": [
    "class Kangaroo:\n",
    "    def __init__(self):\n",
    "        self.name = 'Kangaroo'\n",
    "        self.pouch_contents = []\n",
    "    \n",
    "    def put_in_pouch(self, content):\n",
    "        self.pouch_contents.append(content)\n",
    "    \n",
    "    def __str__(self):\n",
    "        return '{}: {}'.format(self.name, self.pouch_contents)"
   ]
  },
  {
   "cell_type": "code",
   "execution_count": 54,
   "metadata": {},
   "outputs": [
    {
     "output_type": "stream",
     "name": "stdout",
     "text": [
      "Kangaroo: [['Australia', ['a', 'b', 'c']]]\n"
     ]
    }
   ],
   "source": [
    "home = Kangaroo()\n",
    "home.put_in_pouch(['Australia', kshiti.books])\n",
    "# home.put_in_pouch(kshiti.books)\n",
    "print(home)"
   ]
  }
 ]
}