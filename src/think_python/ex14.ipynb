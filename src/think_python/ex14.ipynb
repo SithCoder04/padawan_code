{
 "metadata": {
  "language_info": {
   "codemirror_mode": {
    "name": "ipython",
    "version": 3
   },
   "file_extension": ".py",
   "mimetype": "text/x-python",
   "name": "python",
   "nbconvert_exporter": "python",
   "pygments_lexer": "ipython3",
   "version": "3.8.8"
  },
  "orig_nbformat": 2,
  "kernelspec": {
   "name": "python3",
   "display_name": "Python 3.8.8 64-bit ('base': conda)"
  },
  "interpreter": {
   "hash": "915e36cd6b6dd75b40ca0abb93570bcf58d329ed6a68c1ca68dc2086442c841a"
  }
 },
 "nbformat": 4,
 "nbformat_minor": 2,
 "cells": [
  {
   "cell_type": "code",
   "execution_count": 18,
   "metadata": {},
   "outputs": [
    {
     "output_type": "execute_result",
     "data": {
      "text/plain": [
       "<__main__.Point at 0x182d8d8d700>"
      ]
     },
     "metadata": {},
     "execution_count": 18
    }
   ],
   "source": [
    "blank = Point()\n",
    "blank.x = 3.0\n",
    "blank.y = 4.0\n",
    "# type(blank)\n",
    "blank"
   ]
  },
  {
   "cell_type": "code",
   "execution_count": 19,
   "metadata": {},
   "outputs": [
    {
     "output_type": "execute_result",
     "data": {
      "text/plain": [
       "4.0"
      ]
     },
     "metadata": {},
     "execution_count": 19
    }
   ],
   "source": [
    "blank.y"
   ]
  },
  {
   "cell_type": "code",
   "execution_count": 20,
   "metadata": {},
   "outputs": [
    {
     "output_type": "execute_result",
     "data": {
      "text/plain": [
       "3.0"
      ]
     },
     "metadata": {},
     "execution_count": 20
    }
   ],
   "source": [
    "x = blank.x\n",
    "x"
   ]
  },
  {
   "cell_type": "code",
   "execution_count": 46,
   "metadata": {},
   "outputs": [],
   "source": [
    "import math"
   ]
  },
  {
   "cell_type": "code",
   "execution_count": 28,
   "metadata": {},
   "outputs": [
    {
     "output_type": "stream",
     "name": "stdout",
     "text": [
      "5.0\n"
     ]
    }
   ],
   "source": [
    "distance = math.sqrt(blank.x**2 + blank.y ** 2)\n",
    "print(distance)"
   ]
  },
  {
   "cell_type": "code",
   "execution_count": 35,
   "metadata": {},
   "outputs": [],
   "source": [
    "def print_point(p):\n",
    "    print(type(p))\n",
    "    print('x:{} y:{}'.format(p.x, p.y))\n",
    "    p.x = 5\n",
    "    p.y = 6\n",
    "    return"
   ]
  },
  {
   "cell_type": "code",
   "execution_count": 38,
   "metadata": {},
   "outputs": [
    {
     "output_type": "stream",
     "name": "stdout",
     "text": [
      "<class '__main__.Point'>\nx:5 y:6\n5 6\n"
     ]
    }
   ],
   "source": [
    "print_point(blank)\n",
    "print(blank.x, blank.y)"
   ]
  },
  {
   "cell_type": "code",
   "execution_count": 45,
   "metadata": {},
   "outputs": [
    {
     "output_type": "stream",
     "name": "stdout",
     "text": [
      "2.23606797749979\n"
     ]
    }
   ],
   "source": [
    "p1 = Point()\n",
    "p2 = Point()\n",
    "p1.x = 2\n",
    "p1.y = 3\n",
    "p2.x = 4\n",
    "p2.y = 2\n",
    "distance = math.sqrt(((p2.x - p1.x) ** 2) + ((p2.y - p1.y) ** 2))\n",
    "print(distance)"
   ]
  },
  {
   "cell_type": "code",
   "execution_count": 33,
   "metadata": {},
   "outputs": [],
   "source": [
    "def move_rectangle(rect, dx, dy):\n",
    "    rect.corner.x = rect.corner.x + dx\n",
    "    rect.corner.y = rect.corner.y + dy\n",
    "    return"
   ]
  },
  {
   "cell_type": "code",
   "execution_count": 34,
   "metadata": {},
   "outputs": [
    {
     "output_type": "stream",
     "name": "stdout",
     "text": [
      "3.0 4.0\n"
     ]
    }
   ],
   "source": [
    "box = Rectangle()\n",
    "box.width = 100.0\n",
    "box.hight = 200.0\n",
    "box.corner = Point()\n",
    "box.corner.x = 1.0\n",
    "box.corner.y = 1.0\n",
    "\n",
    "move_rectangle(box, 2, 3)\n",
    "print(box.corner.x, box.corner.y)"
   ]
  },
  {
   "cell_type": "code",
   "execution_count": 35,
   "metadata": {},
   "outputs": [],
   "source": [
    "import copy"
   ]
  },
  {
   "cell_type": "code",
   "execution_count": 43,
   "metadata": {},
   "outputs": [
    {
     "output_type": "stream",
     "name": "stdout",
     "text": [
      "True\n3 4\n3 4\n"
     ]
    },
    {
     "output_type": "execute_result",
     "data": {
      "text/plain": [
       "False"
      ]
     },
     "metadata": {},
     "execution_count": 43
    }
   ],
   "source": [
    "p1 = Point()\n",
    "p1.x = 3\n",
    "p1.y = 4\n",
    "p2 = p1\n",
    "print(p1 is p2)\n",
    "\n",
    "\n",
    "p2 = copy.copy(p1)\n",
    "print(p1.x, p1.y)\n",
    "print(p2.x, p2.y)\n",
    "p1 is p2"
   ]
  },
  {
   "cell_type": "code",
   "execution_count": 21,
   "metadata": {},
   "outputs": [],
   "source": [
    "import math"
   ]
  },
  {
   "cell_type": "code",
   "execution_count": 22,
   "metadata": {},
   "outputs": [],
   "source": [
    "class Point:\n",
    "    \"\"\"Represent a point in 2-D space.\"\"\""
   ]
  },
  {
   "cell_type": "code",
   "execution_count": 23,
   "metadata": {},
   "outputs": [],
   "source": [
    "class Rectangle:\n",
    "    \"\"\"Represents a rectangle.\n",
    "    attributes: width, height, corner.\n",
    "    \"\"\""
   ]
  },
  {
   "cell_type": "code",
   "execution_count": 24,
   "metadata": {},
   "outputs": [],
   "source": [
    "class Circle():\n",
    "    \"\"\"Represents a circle.\n",
    "    attributes: radius, centre.\n",
    "    \"\"\""
   ]
  },
  {
   "cell_type": "code",
   "execution_count": 25,
   "metadata": {},
   "outputs": [],
   "source": [
    "def point_in_circle_1(circ, o_p):\n",
    "    distance = math.sqrt(((o_p.x - circ.centre.x)**2) + (o_p.y - circ.centre.y)**2)\n",
    "    if distance <= circ.radius:\n",
    "        res = True\n",
    "    else:\n",
    "        res = False\n",
    "    # end if\n",
    "    return res"
   ]
  },
  {
   "cell_type": "code",
   "execution_count": 26,
   "metadata": {},
   "outputs": [],
   "source": [
    "def point_in_circle_2(circ, o_p):\n",
    "    min_x = circ.centre.x - circ.radius\n",
    "    max_x = circ.centre.x + circ.radius\n",
    "    min_y = circ.centre.y - circ.radius\n",
    "    max_y = circ.centre.y + circ.radius\n",
    "    if o_p.x <= max_x and o_p.x >= min_x and o_p.y <= max_y and o_p.y >= min_y:\n",
    "        res = True\n",
    "    else:\n",
    "        res = False\n",
    "    # end if\n",
    "    return res"
   ]
  },
  {
   "cell_type": "code",
   "execution_count": 27,
   "metadata": {},
   "outputs": [
    {
     "output_type": "stream",
     "name": "stdout",
     "text": [
      "False\n"
     ]
    }
   ],
   "source": [
    "c = Circle()\n",
    "c.radius = 75\n",
    "c.centre = Point()\n",
    "c.centre.x = 150\n",
    "c.centre.y = 100\n",
    "outside_point = Point()\n",
    "outside_point.x = 0\n",
    "outside_point.y = 0\n",
    "\n",
    "# res = point_in_circle_1(c, outside_point)\n",
    "# print(res)\n",
    "res = point_in_circle_2(c, outside_point)\n",
    "print(res)"
   ]
  },
  {
   "cell_type": "code",
   "execution_count": 28,
   "metadata": {},
   "outputs": [],
   "source": [
    "def rect_in_circle(circ, rect):\n",
    "    bottom_right_corner = Point()\n",
    "    bottom_right_corner.x = rect.bottom_left_corner.x + rect.width\n",
    "    bottom_right_corner.y = rect.bottom_left_corner.y\n",
    "\n",
    "    top_left_corner = Point()\n",
    "    top_left_corner.x = rect.bottom_left_corner.x\n",
    "    top_left_corner.y = rect.bottom_left_corner.y + rect.height\n",
    "\n",
    "    top_right_corner = Point()\n",
    "    top_right_corner.x = top_left_corner.x + rect.width\n",
    "    top_right_corner.y = rect.bottom_left_corner.y\n",
    "\n",
    "    res1 = point_in_circle_1(circ, rect.bottom_left_corner)\n",
    "    res2 = point_in_circle_1(circ, bottom_right_corner)\n",
    "    res3 = point_in_circle_1(circ, top_left_corner)\n",
    "    res4 = point_in_circle_1(circ, top_right_corner)\n",
    "\n",
    "    if res1 == True and res2 == True and res3 == True and res4 == True:\n",
    "        res = True\n",
    "    else:\n",
    "        res = False\n",
    "    return res"
   ]
  },
  {
   "cell_type": "code",
   "execution_count": 31,
   "metadata": {},
   "outputs": [
    {
     "output_type": "stream",
     "name": "stdout",
     "text": [
      "False\n"
     ]
    }
   ],
   "source": [
    "box = Rectangle()\n",
    "box.width = 2\n",
    "box.height = 4\n",
    "box.bottom_left_corner = Point()\n",
    "box.bottom_left_corner.x = 3\n",
    "box.bottom_left_corner.y = 2\n",
    "\n",
    "c = Circle()\n",
    "c.radius = 2\n",
    "c.centre = Point()\n",
    "c.centre.x = 4\n",
    "c.centre.y = 4\n",
    "\n",
    "res = rect_in_circle(c, box)\n",
    "print(res)"
   ]
  },
  {
   "cell_type": "code",
   "execution_count": 32,
   "metadata": {},
   "outputs": [],
   "source": [
    "def rect_on_circle(circ, rect):\n",
    "    left_x = rect.bottom_left_corner.x\n",
    "    right_x = rect.bottom_left_corner + rect.width\n",
    "    top_y = rect.bottom_left_corner.y + rect.height\n",
    "    bottom_y = rect.bottom_left_corner.y\n",
    "\n",
    "    circle_x_min = circ.centre.x - circ.radius\n",
    "    circle_x_max = circ.centre.x + circ.radius\n",
    "    circle_y_min = circ.centre.y - circ.radius\n",
    "    circle_y_max = circ.centre.y + circ.radius\n",
    "\n",
    "    if left_x == circle_x_max:\n",
    "        res = True\n",
    "    elif right_x == circle_x_min:\n",
    "        res = True\n",
    "    elif top_y == circle_y_min:\n",
    "        res = True\n",
    "    elif bottom_y == circle_y_max:\n",
    "        res = True\n",
    "    else:\n",
    "        res = Fasle\n",
    "    # end if\n",
    "    return res"
   ]
  },
  {
   "cell_type": "code",
   "execution_count": null,
   "metadata": {},
   "outputs": [],
   "source": []
  }
 ]
}