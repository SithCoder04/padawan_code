{
 "metadata": {
  "language_info": {
   "codemirror_mode": {
    "name": "ipython",
    "version": 3
   },
   "file_extension": ".py",
   "mimetype": "text/x-python",
   "name": "python",
   "nbconvert_exporter": "python",
   "pygments_lexer": "ipython3",
   "version": "3.8.8"
  },
  "orig_nbformat": 2,
  "kernelspec": {
   "name": "python3",
   "display_name": "Python 3.8.8 64-bit ('base': conda)"
  },
  "interpreter": {
   "hash": "915e36cd6b6dd75b40ca0abb93570bcf58d329ed6a68c1ca68dc2086442c841a"
  }
 },
 "nbformat": 4,
 "nbformat_minor": 2,
 "cells": [
  {
   "cell_type": "code",
   "execution_count": 1,
   "source": [
    "import math"
   ],
   "outputs": [],
   "metadata": {}
  },
  {
   "cell_type": "code",
   "execution_count": 2,
   "source": [
    "def hypotenuse(s1, s2):\r\n",
    "    s1_sq = s1 ** 2\r\n",
    "    s2_sq = s2 ** 2\r\n",
    "    hypo_sq = s1_sq + s2_sq\r\n",
    "    hypo = math.sqrt(hypo_sq)\r\n",
    "    return hypo"
   ],
   "outputs": [],
   "metadata": {}
  },
  {
   "cell_type": "code",
   "execution_count": 3,
   "source": [
    "hypo = hypotenuse(2, 3)\r\n",
    "print(hypo)"
   ],
   "outputs": [
    {
     "output_type": "stream",
     "name": "stdout",
     "text": [
      "3.605551275463989\n"
     ]
    }
   ],
   "metadata": {}
  },
  {
   "cell_type": "code",
   "execution_count": 4,
   "source": [
    "def factorial(n):\r\n",
    "    if n == 0:\r\n",
    "        result = 1\r\n",
    "    else:\r\n",
    "        var = factorial(n - 1)\r\n",
    "        result = n * var\r\n",
    "    # end if\r\n",
    "    return result"
   ],
   "outputs": [],
   "metadata": {}
  },
  {
   "cell_type": "code",
   "execution_count": 5,
   "source": [
    "facto = factorial(3)\r\n",
    "print(facto)"
   ],
   "outputs": [
    {
     "output_type": "stream",
     "name": "stdout",
     "text": [
      "6\n"
     ]
    }
   ],
   "metadata": {}
  },
  {
   "cell_type": "code",
   "execution_count": 11,
   "source": [
    "l = [1,2,3,4,5]\r\n",
    "n = 5"
   ],
   "outputs": [],
   "metadata": {}
  },
  {
   "cell_type": "code",
   "execution_count": 23,
   "source": [
    "def is_present(n, l):    \r\n",
    "    for num in l:\r\n",
    "        print('Looping')\r\n",
    "        if num == n:\r\n",
    "            result = True\r\n",
    "            break\r\n",
    "        else:\r\n",
    "            result = False\r\n",
    "        # enf if\r\n",
    "    # end for\r\n",
    "    return result\r\n",
    "    "
   ],
   "outputs": [],
   "metadata": {}
  },
  {
   "cell_type": "code",
   "execution_count": 26,
   "source": [
    "is_present(9, l)"
   ],
   "outputs": [
    {
     "output_type": "stream",
     "name": "stdout",
     "text": [
      "Looping\n",
      "Looping\n",
      "Looping\n",
      "Looping\n",
      "Looping\n"
     ]
    },
    {
     "output_type": "execute_result",
     "data": {
      "text/plain": [
       "False"
      ]
     },
     "metadata": {},
     "execution_count": 26
    }
   ],
   "metadata": {}
  },
  {
   "cell_type": "code",
   "execution_count": 4,
   "source": [
    "# Newton's method\r\n",
    "def my_sqrt(a):\r\n",
    "    result = None\r\n",
    "    x = 15\r\n",
    "    while a > 0:\r\n",
    "        y = (x + (a / x)) / 2\r\n",
    "        if x == y:\r\n",
    "            # print(x)\r\n",
    "            result = x\r\n",
    "            break\r\n",
    "        else:\r\n",
    "            x = y\r\n",
    "            print(x)\r\n",
    "        # end if\r\n",
    "    # end while\r\n",
    "    return result"
   ],
   "outputs": [],
   "metadata": {}
  },
  {
   "cell_type": "code",
   "execution_count": 6,
   "source": [
    "sq_rt = my_sqrt(4)\r\n",
    "print(sq_rt)"
   ],
   "outputs": [
    {
     "output_type": "stream",
     "name": "stdout",
     "text": [
      "7.633333333333334\n",
      "4.078675400291121\n",
      "2.529692975747352\n",
      "2.0554562650973867\n",
      "2.000748105758992\n",
      "2.0000001398632405\n",
      "2.000000000000005\n",
      "2.0\n",
      "2.0\n"
     ]
    }
   ],
   "metadata": {}
  },
  {
   "cell_type": "code",
   "execution_count": 18,
   "source": [
    "def my_sqrt_recurse(a, x):\r\n",
    "    result = None\r\n",
    "    y = (x + (a / x)) / 2\r\n",
    "    if x == y:\r\n",
    "        result = x\r\n",
    "    else:\r\n",
    "        x = y\r\n",
    "        result = my_sqrt_recurse(a, x)\r\n",
    "    # end if\r\n",
    "    return result"
   ],
   "outputs": [],
   "metadata": {}
  },
  {
   "cell_type": "code",
   "execution_count": 17,
   "source": [
    "result = my_sqrt_recurse(16, 3)\r\n",
    "print(result)"
   ],
   "outputs": [
    {
     "output_type": "stream",
     "name": "stdout",
     "text": [
      "4.0\n"
     ]
    }
   ],
   "metadata": {}
  },
  {
   "cell_type": "code",
   "execution_count": 101,
   "source": [
    "def test_square_root():\r\n",
    "    a_list = [1, 2, 3, 4, 5, 6, 7, 8, 9]\r\n",
    "    my_sq_rt = []\r\n",
    "    math_sq_rt = []\r\n",
    "    diff = []\r\n",
    "    for a in a_list:\r\n",
    "        sq_rt = my_sqrt(a)\r\n",
    "        my_sq_rt.append(sq_rt)\r\n",
    "        math_sqrt = math.sqrt(a)\r\n",
    "        math_sq_rt.append(math_sqrt)\r\n",
    "        difference = sq_rt - math_sqrt\r\n",
    "        diff.append(difference)\r\n",
    "    # end for\r\n",
    "    print('{:3s}{:15s}{:15s}{:15s}'.format('a',' mysqrt(a)', 'math.sqrt(a)', 'diff'))\r\n",
    "    print('{:3s}{:15s}{:15s}{:15s}'.format('-',' ---------', '------------', '----'))\r\n",
    "    for i in range(len(a_list)):\r\n",
    "        print('{:1.1f}  {:2.5f}        {:2.5f}       {:2.5f}'.format(a_list[i], my_sq_rt[i], math_sq_rt[i], diff[i]))\r\n",
    "    return "
   ],
   "outputs": [],
   "metadata": {}
  },
  {
   "cell_type": "code",
   "execution_count": 102,
   "source": [
    "test_square_root()"
   ],
   "outputs": [
    {
     "output_type": "stream",
     "name": "stdout",
     "text": [
      "a   mysqrt(a)     math.sqrt(a)   diff           \n",
      "-   ---------     ------------   ----           \n",
      "1.0  1.00000        1.00000       0.00000\n",
      "2.0  1.41421        1.41421       -0.00000\n",
      "3.0  1.73205        1.73205       0.00000\n",
      "4.0  2.00000        2.00000       0.00000\n",
      "5.0  2.23607        2.23607       0.00000\n",
      "6.0  2.44949        2.44949       0.00000\n",
      "7.0  2.64575        2.64575       0.00000\n",
      "8.0  2.82843        2.82843       -0.00000\n",
      "9.0  3.00000        3.00000       0.00000\n"
     ]
    }
   ],
   "metadata": {}
  },
  {
   "cell_type": "code",
   "execution_count": null,
   "source": [],
   "outputs": [],
   "metadata": {}
  }
 ]
}