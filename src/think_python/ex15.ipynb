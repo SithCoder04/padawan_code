{
 "metadata": {
  "language_info": {
   "codemirror_mode": {
    "name": "ipython",
    "version": 3
   },
   "file_extension": ".py",
   "mimetype": "text/x-python",
   "name": "python",
   "nbconvert_exporter": "python",
   "pygments_lexer": "ipython3",
   "version": "3.8.8"
  },
  "orig_nbformat": 4,
  "kernelspec": {
   "name": "python3",
   "display_name": "Python 3.8.8 64-bit ('base': conda)"
  },
  "interpreter": {
   "hash": "915e36cd6b6dd75b40ca0abb93570bcf58d329ed6a68c1ca68dc2086442c841a"
  }
 },
 "nbformat": 4,
 "nbformat_minor": 2,
 "cells": [
  {
   "cell_type": "code",
   "execution_count": 1,
   "metadata": {},
   "outputs": [],
   "source": [
    "class Time:\n",
    "    \"\"\" Represents the time of the day.\n",
    "\n",
    "    sttributes: hours, minutes, seconds\n",
    "    \"\"\""
   ]
  },
  {
   "cell_type": "code",
   "execution_count": 29,
   "metadata": {},
   "outputs": [
    {
     "output_type": "stream",
     "name": "stdout",
     "text": [
      "16:57:29\n"
     ]
    }
   ],
   "source": [
    "time = Time()\n",
    "time.hour = 16\n",
    "time.minute = 57\n",
    "time.second = 29\n",
    "print('{:2d}:{:2d}:{:2d}'.format(time.hour, time.minute, time.second))"
   ]
  },
  {
   "cell_type": "code",
   "execution_count": 46,
   "metadata": {},
   "outputs": [],
   "source": [
    "def is_after(t1, t2):\n",
    "    if t1.h >= t2.h:\n",
    "        res1 = True\n",
    "    else:\n",
    "        res1 = False\n",
    "    # end if\n",
    "    if t1.m >= t2.m:\n",
    "        res2 = True\n",
    "    else:\n",
    "        res2 = False\n",
    "    # end if\n",
    "    if t1.s >= t2.s:\n",
    "        res3 = True\n",
    "    else:\n",
    "        res3 = False\n",
    "    # end if\n",
    "    if res1 == True and res2 == True and res3 == True:\n",
    "        res = True\n",
    "    else:\n",
    "        res = False\n",
    "    # end if\n",
    "    return res"
   ]
  },
  {
   "cell_type": "code",
   "execution_count": 49,
   "metadata": {},
   "outputs": [
    {
     "output_type": "stream",
     "name": "stdout",
     "text": [
      "False\n"
     ]
    }
   ],
   "source": [
    "t1 = Time()\n",
    "t1.h = 20\n",
    "t1.m = 5\n",
    "t1.s = 10\n",
    "\n",
    "t2 = Time()\n",
    "t2.h = 15\n",
    "t2.m = 10\n",
    "t2.s = 25\n",
    "\n",
    "res = is_after(t1, t2)\n",
    "print(res)"
   ]
  },
  {
   "cell_type": "code",
   "execution_count": 52,
   "metadata": {},
   "outputs": [],
   "source": [
    "def is_after_1(t1, t2):\n",
    "    if t1.h == t2.h:\n",
    "        if t1.m == t2.m:\n",
    "            if t1.s == t2.s:\n",
    "                res = 'Both are same'\n",
    "            else:\n",
    "                if t1.s > t2.s:\n",
    "                    res = True\n",
    "                else:\n",
    "                    res = False\n",
    "                # end if\n",
    "            # end if\n",
    "        else:\n",
    "            if t1.m > t2.m:\n",
    "                res = True\n",
    "            else:\n",
    "                res = False\n",
    "            # end if\n",
    "        # end if\n",
    "    else:\n",
    "        if t1.h > t2.h:\n",
    "            res = True\n",
    "        else:\n",
    "            res = False\n",
    "        # end if\n",
    "     # end if\n",
    "    return res"
   ]
  },
  {
   "cell_type": "code",
   "execution_count": 58,
   "metadata": {},
   "outputs": [
    {
     "output_type": "stream",
     "name": "stdout",
     "text": [
      "False\n"
     ]
    }
   ],
   "source": [
    "t1 = Time()\n",
    "t1.h = 10\n",
    "t1.m = 15\n",
    "t1.s = 4\n",
    "\n",
    "t2 = Time()\n",
    "t2.h = 10\n",
    "t2.m = 15\n",
    "t2.s = 45\n",
    "\n",
    "res = is_after_1(t1, t2)\n",
    "print(res)"
   ]
  },
  {
   "cell_type": "code",
   "execution_count": 62,
   "metadata": {},
   "outputs": [],
   "source": [
    "def is_after_2(t1, t2):\n",
    "    t1_hours_in_min = t1.h * 60\n",
    "    t1_tot_min = t1_hours_in_min + t1.m\n",
    "    t1_tot_min_in_sec = t1_tot_min * 60\n",
    "    t1_tot_sec = t1_tot_min_in_sec + t1.s\n",
    "\n",
    "    t2_hours_in_min = t2.h * 60\n",
    "    t2_tot_min = t2_hours_in_min + t2.m\n",
    "    t2_tot_min_in_sec = t2_tot_min * 60\n",
    "    t2_tot_sec = t2_tot_min_in_sec + t2.s\n",
    "\n",
    "    if t1_tot_sec == t2_tot_sec:\n",
    "        res = 'Both are same'\n",
    "    else:\n",
    "        if t1_tot_sec > t2_tot_sec:\n",
    "            res = True\n",
    "        else:\n",
    "            res = False\n",
    "        # end if\n",
    "    # end if\n",
    "    return res"
   ]
  },
  {
   "cell_type": "code",
   "execution_count": 66,
   "metadata": {},
   "outputs": [
    {
     "output_type": "stream",
     "name": "stdout",
     "text": [
      "True\n"
     ]
    }
   ],
   "source": [
    "t1 = Time()\n",
    "t1.h = 10\n",
    "t1.m = 15\n",
    "t1.s = 45\n",
    "\n",
    "t2 = Time()\n",
    "t2.h = 10\n",
    "t2.m = 1\n",
    "t2.s = 45\n",
    "\n",
    "res = is_after_2(t1, t2)\n",
    "print(res)"
   ]
  },
  {
   "cell_type": "code",
   "execution_count": 3,
   "metadata": {},
   "outputs": [],
   "source": [
    "import datetime"
   ]
  },
  {
   "cell_type": "code",
   "execution_count": 18,
   "metadata": {},
   "outputs": [
    {
     "output_type": "stream",
     "name": "stdout",
     "text": [
      "<class 'datetime.datetime'>\n2021-06-17 17:37:35.617997\n3\n"
     ]
    },
    {
     "output_type": "execute_result",
     "data": {
      "text/plain": [
       "6"
      ]
     },
     "metadata": {},
     "execution_count": 18
    }
   ],
   "source": [
    "x = datetime.datetime.now()\n",
    "print(type(x))\n",
    "print(x)\n",
    "print(x.weekday())\n",
    "x.year\n",
    "x.month"
   ]
  },
  {
   "cell_type": "code",
   "execution_count": 19,
   "metadata": {},
   "outputs": [],
   "source": [
    "def day_of_the_week():\n",
    "    curr_date_time = datetime.datetime.now()\n",
    "    print(curr_date_time.weekday())\n",
    "    return"
   ]
  },
  {
   "cell_type": "code",
   "execution_count": 20,
   "metadata": {},
   "outputs": [
    {
     "output_type": "stream",
     "name": "stdout",
     "text": [
      "3\n"
     ]
    }
   ],
   "source": [
    "day_of_the_week()"
   ]
  },
  {
   "cell_type": "code",
   "execution_count": 23,
   "metadata": {},
   "outputs": [
    {
     "output_type": "stream",
     "name": "stdout",
     "text": [
      "13\n10\n"
     ]
    }
   ],
   "source": [
    "x = datetime.datetime.now()\n",
    "birth_year = 2008\n",
    "birth_month = 4\n",
    "birth_day = 30\n",
    "age = x.year - birth_year\n",
    "print(age)\n",
    "next_year = x.year + 1\n",
    "next_bday_months = (12 - x.month) + birth_month\n",
    "x."
   ]
  },
  {
   "cell_type": "code",
   "execution_count": 29,
   "metadata": {},
   "outputs": [
    {
     "output_type": "stream",
     "name": "stdout",
     "text": [
      "2022-04-30 00:00:00\n<class 'datetime.timedelta'>\n316 days, 6:13:49.508938\n"
     ]
    },
    {
     "output_type": "execute_result",
     "data": {
      "text/plain": [
       "datetime.timedelta(days=316, seconds=22429, microseconds=508938)"
      ]
     },
     "metadata": {},
     "execution_count": 29
    }
   ],
   "source": [
    "next_bday = datetime.datetime(2022, 4, 30)\n",
    "print(next_bday)\n",
    "y = next_bday - x\n",
    "print(type(y))\n",
    "print(y)\n",
    "y"
   ]
  },
  {
   "cell_type": "code",
   "execution_count": null,
   "metadata": {},
   "outputs": [],
   "source": []
  }
 ]
}