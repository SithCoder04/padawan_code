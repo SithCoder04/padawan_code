{
 "metadata": {
  "language_info": {
   "codemirror_mode": {
    "name": "ipython",
    "version": 3
   },
   "file_extension": ".py",
   "mimetype": "text/x-python",
   "name": "python",
   "nbconvert_exporter": "python",
   "pygments_lexer": "ipython3",
   "version": "3.8.8"
  },
  "orig_nbformat": 2,
  "kernelspec": {
   "name": "python388jvsc74a57bd0915e36cd6b6dd75b40ca0abb93570bcf58d329ed6a68c1ca68dc2086442c841a",
   "display_name": "Python 3.8.8 64-bit ('base': conda)"
  }
 },
 "nbformat": 4,
 "nbformat_minor": 2,
 "cells": [
  {
   "cell_type": "code",
   "execution_count": 9,
   "metadata": {},
   "outputs": [
    {
     "output_type": "stream",
     "name": "stdout",
     "text": [
      "<class 'tuple'>\n(1, 2)\n"
     ]
    }
   ],
   "source": [
    "m_t = (1,)\n",
    "# m_t[0] = 3\n",
    "print(type(m_t))\n",
    "print(m_t)"
   ]
  },
  {
   "cell_type": "code",
   "execution_count": 10,
   "metadata": {},
   "outputs": [
    {
     "output_type": "stream",
     "name": "stdout",
     "text": [
      "<class 'list'>\n"
     ]
    }
   ],
   "source": [
    "l = [1]\n",
    "print(type(l))"
   ]
  },
  {
   "cell_type": "code",
   "execution_count": 16,
   "metadata": {},
   "outputs": [],
   "source": [
    "def fun(n1, n2):\n",
    "    q = n1 // n2\n",
    "    r = n1 % n2\n",
    "    return (q, r)"
   ]
  },
  {
   "cell_type": "code",
   "execution_count": 22,
   "metadata": {},
   "outputs": [
    {
     "output_type": "stream",
     "name": "stdout",
     "text": [
      "(2, 0)\n2 0\n<class 'tuple'>\n"
     ]
    }
   ],
   "source": [
    "res = fun(10, 5,)\n",
    "q = res[0]\n",
    "r = res[1]\n",
    "print(res)\n",
    "print(q, r)\n",
    "print(type(res))"
   ]
  },
  {
   "cell_type": "code",
   "execution_count": 27,
   "metadata": {},
   "outputs": [],
   "source": [
    "def my_sum(*args):\n",
    "    print(args)\n",
    "    print(type(args))\n",
    "    ret_sum = 0\n",
    "    for i in args:\n",
    "        ret_sum = ret_sum + i\n",
    "    # end for\n",
    "    return ret_sum"
   ]
  },
  {
   "cell_type": "code",
   "execution_count": 29,
   "metadata": {},
   "outputs": [
    {
     "output_type": "stream",
     "name": "stdout",
     "text": [
      "(1, 2, 3, 4, 50)\n<class 'tuple'>\n60\n"
     ]
    }
   ],
   "source": [
    "ret_sum = my_sum(1, 2, 3, 4, 50)\n",
    "print(ret_sum)"
   ]
  },
  {
   "cell_type": "code",
   "execution_count": 31,
   "metadata": {},
   "outputs": [
    {
     "output_type": "stream",
     "name": "stdout",
     "text": [
      "(1, 2, 3, 4)\n1 2 3 4\n"
     ]
    }
   ],
   "source": [
    "t = (1, 2, 3, 4)\n",
    "print(t)\n",
    "print(*t)"
   ]
  },
  {
   "cell_type": "code",
   "execution_count": 38,
   "metadata": {},
   "outputs": [
    {
     "output_type": "stream",
     "name": "stdout",
     "text": [
      "<zip object at 0x00000250AB7FCB40>\n<class 'zip'>\na 0\nb 1\nc 2\nd 3\n"
     ]
    }
   ],
   "source": [
    "s = 'abcd'\n",
    "t = [0, 1, 2,3,4]\n",
    "x = zip(s, t)\n",
    "print(x)\n",
    "print(type(x))\n",
    "for i, j in x:\n",
    "    print(i, j)"
   ]
  },
  {
   "cell_type": "code",
   "execution_count": 39,
   "metadata": {},
   "outputs": [],
   "source": [
    "def most_frequent(my_string):\n",
    "    num_letters_list = []\n",
    "    while len(my_string):\n",
    "        i = 0\n",
    "        current_letter = my_string[i]\n",
    "        counter = 1\n",
    "        for j in my_string[i+1::]:\n",
    "            if current_letter == j:\n",
    "                counter = counter + 1\n",
    "            # end if\n",
    "        # end for\n",
    "        my_string = my_string.replace(current_letter, '')\n",
    "        num_letters_list.append([current_letter, counter])\n",
    "    # end for\n",
    "    return num_letters_list"
   ]
  },
  {
   "cell_type": "code",
   "execution_count": 40,
   "metadata": {},
   "outputs": [
    {
     "output_type": "stream",
     "name": "stdout",
     "text": [
      "[['a', 2], ['b', 4], ['c', 2], ['d', 1]]\n"
     ]
    }
   ],
   "source": [
    "res = most_frequent('ababcbdcb')\n",
    "print(res)"
   ]
  },
  {
   "cell_type": "code",
   "execution_count": 61,
   "metadata": {
    "tags": []
   },
   "outputs": [
    {
     "output_type": "stream",
     "name": "stdout",
     "text": [
      "[1, 2, 3, 4, 5, 6, 67, 52]\n"
     ]
    }
   ],
   "source": [
    "l = [5, 6, 2, 3, 1, 4, 67, 52]\n",
    "ret_list = []\n",
    "i = 0\n",
    "while len(l):\n",
    "    current_element = l[i]\n",
    "    for j in range(len(l)):\n",
    "        compare_element = l[j]\n",
    "        if current_element <= compare_element:\n",
    "            pass\n",
    "        else:\n",
    "            break\n",
    "    # end for\n",
    "    # print(j)\n",
    "    if j == (len(l) - 1):\n",
    "        ret_list.append(current_element)\n",
    "        l.remove(current_element)\n",
    "        i = 0\n",
    "    else:\n",
    "        i = i + 1\n",
    "    # end if\n",
    "# end while\n",
    "\n",
    "print(ret_list)"
   ]
  },
  {
   "cell_type": "code",
   "execution_count": 54,
   "metadata": {},
   "outputs": [],
   "source": [
    "def anagram(word_list):\n",
    "    ret_dict = {}\n",
    "    for word in word_list:\n",
    "        sorted_list = sorted(word)\n",
    "        sorted_word = ''.join(sorted_list)\n",
    "        if sorted_word in ret_dict:\n",
    "            val = ret_dict[sorted_word]\n",
    "            val.append(word)\n",
    "        else:\n",
    "            ret_dict[sorted_word] = [word]\n",
    "        # end if\n",
    "    # end for\n",
    "    return ret_dict"
   ]
  },
  {
   "cell_type": "code",
   "execution_count": 69,
   "metadata": {},
   "outputs": [],
   "source": [
    "word_list = ['deltas', 'desalt', 'lasted', 'salted', 'slated', 'staled', 'retainers', 'ternaries', 'generating', 'greatening', 'resmelts', 'smelters', 'termless']\n",
    "res = anagram(word_list)"
   ]
  },
  {
   "cell_type": "code",
   "execution_count": 70,
   "metadata": {},
   "outputs": [],
   "source": [
    "def sort_descending_order(res):\n",
    "    ascending_order_res = []\n",
    "    for k, v in res.items():\n",
    "        ascending_order_res.append(v)\n",
    "    # end for\n",
    "    descending_order_res = sorted(ascending_order_res, key=len, reverse=True)\n",
    "    return descending_order_res"
   ]
  },
  {
   "cell_type": "code",
   "execution_count": 71,
   "metadata": {},
   "outputs": [],
   "source": [
    "def best_bingo(res):\n",
    "    bingo_dict = {}\n",
    "    for k, v in res.items():\n",
    "        if len(k) == 8:\n",
    "            bingo_dict[k] = v\n",
    "        else:\n",
    "            pass\n",
    "        # end if\n",
    "    # end for\n",
    "    descending_order_bingo = sort_descending_order(bingo_dict)\n",
    "    best_bingo_val = descending_order_bingo[0]\n",
    "    best_bingo_list = sorted(best_bingo_val[0])\n",
    "    best_bingo_key = ''.join(best_bingo_list)\n",
    "    return best_bingo_key"
   ]
  },
  {
   "cell_type": "code",
   "execution_count": 72,
   "metadata": {},
   "outputs": [
    {
     "output_type": "stream",
     "name": "stdout",
     "text": [
      "eelmrsst\n"
     ]
    }
   ],
   "source": [
    "best_bingo_word = best_bingo(res)\n",
    "print(best_bingo_word)"
   ]
  },
  {
   "cell_type": "code",
   "execution_count": 46,
   "metadata": {},
   "outputs": [],
   "source": [
    "def metathesis_pair(s, l, m_d):\n",
    "    ret_list = []\n",
    "    for i in range(len(l)):\n",
    "        tmp = l[i]\n",
    "        # print(tmp)\n",
    "        for j in range(i+1, len(l)):\n",
    "            # print(l)\n",
    "            l[i] = l[j]\n",
    "            l[j] = tmp\n",
    "            # print(l)\n",
    "            word = ''.join(l)\n",
    "            # print(word)\n",
    "            if word in m_d:\n",
    "                ret_list.append([s, word])\n",
    "            else:\n",
    "                tmp = l[j]\n",
    "                l[j] = l[i]\n",
    "                l[i] = tmp\n",
    "            # end if\n",
    "        # end for\n",
    "    # end for\n",
    "    return ret_list"
   ]
  },
  {
   "cell_type": "code",
   "execution_count": 47,
   "metadata": {},
   "outputs": [
    {
     "output_type": "stream",
     "name": "stdout",
     "text": [
      "[['abcde', 'cbade']]\n"
     ]
    }
   ],
   "source": [
    "ret_list = metathesis_pair('abcde', ['a', 'b', 'c', 'd', 'e'], {'cbade': 0, 'adcbe': 0, 'abedc': 0})\n",
    "print(ret_list)"
   ]
  },
  {
   "cell_type": "code",
   "execution_count": 49,
   "metadata": {},
   "outputs": [],
   "source": [
    "import random"
   ]
  },
  {
   "cell_type": "code",
   "execution_count": 57,
   "metadata": {},
   "outputs": [
    {
     "output_type": "execute_result",
     "data": {
      "text/plain": [
       "8"
      ]
     },
     "metadata": {},
     "execution_count": 57
    }
   ],
   "source": [
    "random.randint(1, 10)"
   ]
  },
  {
   "cell_type": "code",
   "execution_count": 68,
   "metadata": {},
   "outputs": [
    {
     "output_type": "execute_result",
     "data": {
      "text/plain": [
       "2"
      ]
     },
     "metadata": {},
     "execution_count": 68
    }
   ],
   "source": [
    "4 // 2"
   ]
  },
  {
   "cell_type": "code",
   "execution_count": null,
   "metadata": {},
   "outputs": [],
   "source": [
    "s = 'abcde'\n",
    "options_dict = {'bcde': 0, 'cde': 0, 'abcd': 0}\n",
    "for i in s:\n",
    "    word_without_first_letter = s[1::]\n",
    "    word_without_last_letter = s[:-1]\n",
    "\n",
    "    if (len(s) % 2) == 0:\n",
    "        odd = len(s) // 2\n",
    "    else:\n",
    "        even_one = len(s) // 2\n",
    "        even_two = (len(s) // 2) - 1\n",
    "    # end if\n",
    "    word_without_middle_letter_odd_list = list(s)\n",
    "    del word_without_middle_letter_odd_list[odd]\n",
    "    word_without_middle_letter_odd_str = ''.join(word_without_middle_letter_odd_list)\n",
    "    \n",
    "\n",
    "    if word_without_first_letter in options_dict:\n",
    "        print('yes 1')\n",
    "    elif word_without_last_letter in options_dict:\n",
    "        print('yes 2')\n",
    "    "
   ]
  }
 ]
}