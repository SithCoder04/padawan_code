{
 "metadata": {
  "language_info": {
   "codemirror_mode": {
    "name": "ipython",
    "version": 3
   },
   "file_extension": ".py",
   "mimetype": "text/x-python",
   "name": "python",
   "nbconvert_exporter": "python",
   "pygments_lexer": "ipython3",
   "version": "3.8.8"
  },
  "orig_nbformat": 2,
  "kernelspec": {
   "name": "python388jvsc74a57bd0915e36cd6b6dd75b40ca0abb93570bcf58d329ed6a68c1ca68dc2086442c841a",
   "display_name": "Python 3.8.8 64-bit ('base': conda)"
  }
 },
 "nbformat": 4,
 "nbformat_minor": 2,
 "cells": [
  {
   "cell_type": "code",
   "execution_count": null,
   "metadata": {},
   "outputs": [],
   "source": [
    "fin = open('C:\\\\Users\\\\gumas\\\\OneDrive\\\\Documents\\\\KSHITI\\\\electronics and python\\\\words.txt')"
   ]
  },
  {
   "cell_type": "code",
   "execution_count": null,
   "metadata": {},
   "outputs": [],
   "source": [
    "for line in fin:\n",
    "    line = line.strip()\n",
    "    if len(line) >= 20:\n",
    "        print(line)\n",
    "    # end if\n",
    "# end for"
   ]
  },
  {
   "cell_type": "code",
   "execution_count": null,
   "metadata": {},
   "outputs": [],
   "source": [
    "def has_no_e(word):\n",
    "    if 'e' in word:\n",
    "        result = False\n",
    "    else:\n",
    "        result = True\n",
    "    # end if\n",
    "    return result"
   ]
  },
  {
   "cell_type": "code",
   "execution_count": null,
   "metadata": {
    "tags": []
   },
   "outputs": [],
   "source": [
    "result = has_no_e('apple')\n",
    "print(result)"
   ]
  },
  {
   "cell_type": "code",
   "execution_count": null,
   "metadata": {},
   "outputs": [],
   "source": [
    "def fin_has_no_e(fin):\n",
    "    fin_counter = 0\n",
    "    no_e_counter = 0\n",
    "    for line in fin:\n",
    "        fin_counter = fin_counter + 1\n",
    "        result = has_no_e(line)\n",
    "        if result == True:\n",
    "            no_e_counter = no_e_counter + 1\n",
    "            print(line)\n",
    "        # end if\n",
    "    # end for\n",
    "    no_e_percentage = (no_e_counter / fin_counter) * 100\n",
    "    return no_e_percentage"
   ]
  },
  {
   "cell_type": "code",
   "execution_count": null,
   "metadata": {
    "tags": []
   },
   "outputs": [],
   "source": [
    "percentage = fin_has_no_e(fin)\n",
    "print(percentage)"
   ]
  },
  {
   "cell_type": "code",
   "execution_count": 3,
   "metadata": {},
   "outputs": [],
   "source": [
    "forbidden_letters = ['a', 'e', 'i', 'o', 'u']"
   ]
  },
  {
   "cell_type": "code",
   "execution_count": null,
   "metadata": {},
   "outputs": [],
   "source": [
    "l = 'a'\n",
    "if l in forbidden_letters:\n",
    "    print('yes')\n",
    "else:\n",
    "    print('no')"
   ]
  },
  {
   "cell_type": "code",
   "execution_count": 1,
   "metadata": {},
   "outputs": [],
   "source": [
    "def avoids(word, forbidden_letter):\n",
    "    for l in word:\n",
    "        if l in forbidden_letters:\n",
    "            result = False\n",
    "        else:\n",
    "            result = True\n",
    "        # end if\n",
    "    # end for\n",
    "    return result"
   ]
  },
  {
   "cell_type": "code",
   "execution_count": 4,
   "metadata": {},
   "outputs": [
    {
     "output_type": "stream",
     "name": "stdout",
     "text": [
      "True\n"
     ]
    }
   ],
   "source": [
    "result = avoids('wxyz', forbidden_letters)\n",
    "print(result)"
   ]
  },
  {
   "cell_type": "code",
   "execution_count": null,
   "metadata": {},
   "outputs": [],
   "source": [
    "def no_forbidden_letter(fin, forbidden_letters):\n",
    "    result = False\n",
    "    for line in fin:\n",
    "        for l in forbidden_letters:\n",
    "            if l in line:\n",
    "                pass\n",
    "            else:\n",
    "                result = True\n",
    "            # end if\n",
    "        # end for\n",
    "    # end for\n",
    "    return result"
   ]
  },
  {
   "cell_type": "code",
   "execution_count": null,
   "metadata": {},
   "outputs": [],
   "source": [
    "result = no_forbidden_letter(fin, forbidden_letters)\n",
    "print(result)"
   ]
  },
  {
   "cell_type": "code",
   "execution_count": null,
   "metadata": {},
   "outputs": [],
   "source": [
    "letters_list = ['a', 'e', 'i', 'o', 'u']"
   ]
  },
  {
   "cell_type": "code",
   "execution_count": null,
   "metadata": {},
   "outputs": [],
   "source": [
    "def uses_only(word, letters_list):\n",
    "    for l in word:\n",
    "        if l in letters_list:\n",
    "            result = True\n",
    "        else:\n",
    "            result = False\n",
    "            break\n",
    "        # end if\n",
    "    # end for\n",
    "    return result"
   ]
  },
  {
   "cell_type": "code",
   "execution_count": null,
   "metadata": {},
   "outputs": [],
   "source": [
    "result = uses_only('aa', letters_list)\n",
    "print(result)"
   ]
  },
  {
   "cell_type": "code",
   "execution_count": null,
   "metadata": {},
   "outputs": [],
   "source": [
    "def uses_all(word, letters_list):\n",
    "    for letter in letters_list:\n",
    "        if letter in word:\n",
    "            result = True\n",
    "        else:\n",
    "            result = False\n",
    "            break\n",
    "        # end if\n",
    "    # end for\n",
    "    return result"
   ]
  },
  {
   "cell_type": "code",
   "execution_count": null,
   "metadata": {},
   "outputs": [],
   "source": [
    "result = uses_all('aeiou', letters_list)\n",
    "print(result)"
   ]
  },
  {
   "cell_type": "code",
   "execution_count": null,
   "metadata": {},
   "outputs": [],
   "source": [
    "m_l = [1, 2, 3, 4, 5]\n",
    "sums = 0\n",
    "for i in m_l:\n",
    "    sums = sums + i\n",
    "# end for\n",
    "print(sums) "
   ]
  },
  {
   "cell_type": "code",
   "execution_count": null,
   "metadata": {},
   "outputs": [],
   "source": [
    "def is_abecedarian(word):\n",
    "    index = 0\n",
    "    for l in word:\n",
    "        if ord(l) > index:\n",
    "            result = True\n",
    "            index = ord(l)\n",
    "        else:\n",
    "            result = False\n",
    "            break\n",
    "        # end if\n",
    "    # end for\n",
    "    return result"
   ]
  },
  {
   "cell_type": "code",
   "execution_count": null,
   "metadata": {},
   "outputs": [],
   "source": [
    "result = is_abecedarian('acdb')\n",
    "print(result)"
   ]
  },
  {
   "cell_type": "code",
   "execution_count": null,
   "metadata": {},
   "outputs": [],
   "source": [
    "string = 'malayalam'\n",
    "rev_str = ''\n",
    "for c in string[::-1]:\n",
    "    rev_str = rev_str + c\n",
    "# end for\n",
    "if string == rev_str:\n",
    "    print('yes')\n",
    "else:\n",
    "    print('no')\n",
    "# end if"
   ]
  },
  {
   "cell_type": "code",
   "execution_count": null,
   "metadata": {
    "tags": []
   },
   "outputs": [],
   "source": [
    "def is_palindrome(string):\n",
    "    left_index = 0\n",
    "    right_index = len(string) - 1\n",
    "    while True:\n",
    "        left_letter = string[left_index]\n",
    "        right_letter = string[right_index]\n",
    "        if left_letter == right_letter:\n",
    "            if left_index > right_index:\n",
    "                result = 'is palindrome'\n",
    "                break\n",
    "            else:\n",
    "                left_index = left_index + 1\n",
    "                right_index = right_index - 1\n",
    "            # end if\n",
    "        else:\n",
    "            result = 'is not a palindrome'\n",
    "        # end if\n",
    "    # end while\n",
    "    return result"
   ]
  },
  {
   "cell_type": "code",
   "execution_count": null,
   "metadata": {},
   "outputs": [],
   "source": [
    "def has_three_consecutive_letters(word):\n",
    "    result = False\n",
    "    previous = word[0]\n",
    "    counter = 0\n",
    "    for current in word[1::]:\n",
    "        if previous == current:\n",
    "            counter = counter + 1\n",
    "            if counter == 3:\n",
    "                result = True\n",
    "                break\n",
    "            # end if\n",
    "        # end if\n",
    "        previous = current\n",
    "    # end for\n",
    "    return result"
   ]
  },
  {
   "cell_type": "code",
   "execution_count": null,
   "metadata": {},
   "outputs": [],
   "source": [
    "result = has_three_consecutive_letters('abbcddee')\n",
    "print(result)"
   ]
  },
  {
   "cell_type": "code",
   "execution_count": 14,
   "metadata": {},
   "outputs": [],
   "source": [
    "def is_palindrome(string):\n",
    "    left_index = 0\n",
    "    right_index = len(string) - 1\n",
    "    while True:\n",
    "        left_letter = string[left_index]\n",
    "        right_letter = string[right_index]\n",
    "        if left_letter == right_letter:\n",
    "            if left_index > right_index:\n",
    "                result = True\n",
    "                break\n",
    "            else:\n",
    "                left_index = left_index + 1\n",
    "                right_index = right_index - 1\n",
    "            # end if\n",
    "        else:\n",
    "            result = False\n",
    "            break\n",
    "        # end if\n",
    "    # end while\n",
    "    return result"
   ]
  },
  {
   "cell_type": "code",
   "execution_count": 23,
   "metadata": {},
   "outputs": [],
   "source": [
    "def is_palindrome(string):\n",
    "    left_index = 0\n",
    "    right_index = len(string) - 1\n",
    "    while True:\n",
    "        if left_index >= right_index:\n",
    "            result = True\n",
    "            break\n",
    "        else:\n",
    "            left_letter = string[left_index]\n",
    "            right_letter = string[right_index]\n",
    "            if left_letter == right_letter:\n",
    "                left_index = left_index + 1\n",
    "                right_index = right_index - 1\n",
    "            else:\n",
    "                result = False\n",
    "                break\n",
    "            # end if\n",
    "        # end if\n",
    "    # end while\n",
    "    return result"
   ]
  },
  {
   "cell_type": "code",
   "execution_count": 26,
   "metadata": {},
   "outputs": [
    {
     "output_type": "stream",
     "name": "stdout",
     "text": [
      "True\n"
     ]
    }
   ],
   "source": [
    "result = is_palindrome('aa')\n",
    "print(result)"
   ]
  },
  {
   "cell_type": "code",
   "execution_count": 17,
   "metadata": {},
   "outputs": [],
   "source": [
    "def odometer_func(number):\n",
    "    number = str(number)\n",
    "\n",
    "    last_four_case = number[2::]\n",
    "    last_five_case = number[1::]\n",
    "    middle_four_case = number[1:5:]\n",
    "    entire_case = number\n",
    "    \n",
    "    result_last_four_case = is_palindrome(last_four_case)\n",
    "    result_last_five_case = is_palindrome(last_five_case)\n",
    "    result_middle_four_case = is_palindrome(middle_four_case)\n",
    "    result_entire_case = is_palindrome(entire_case)\n",
    "\n",
    "    if result_last_four_case == True:\n",
    "        print('{} '.format(last_four_case) + 'is a palindrome in your number')\n",
    "    else:\n",
    "        print('{} '.format(last_four_case) + 'is not a palindrome in your number')\n",
    "    # end if\n",
    "\n",
    "    if result_last_five_case == True:\n",
    "        print('{} '.format(last_five_case) + 'is a palindrome in your number')\n",
    "    else:\n",
    "        print('{} '.format(last_five_case) + 'is not a palindrome in your number')\n",
    "    # end if\n",
    "\n",
    "    if result_middle_four_case == True:\n",
    "        print('{} '.format(middle_four_case) + 'is a palindrome in your number')\n",
    "    else:\n",
    "        print('{} '.format(middle_four_case) + 'is not a palindrome in your number')\n",
    "    # end if\n",
    "\n",
    "    if result_entire_case == True:\n",
    "        print('{} '.format(entire_case) + 'is a palindrome in your number')\n",
    "    else:\n",
    "        print('{} '.format(entire_case) + 'is not a palindrome in your number')\n",
    "    # end if\n",
    "    return"
   ]
  },
  {
   "cell_type": "code",
   "execution_count": 18,
   "metadata": {},
   "outputs": [
    {
     "output_type": "stream",
     "name": "stdout",
     "text": [
      "5445 is a palindrome in your number\n15445 is not a palindrome in your number\n1544 is not a palindrome in your number\n315445 is not a palindrome in your number\n"
     ]
    }
   ],
   "source": [
    "odometer_func(315445)"
   ]
  },
  {
   "cell_type": "code",
   "execution_count": 45,
   "metadata": {},
   "outputs": [
    {
     "output_type": "stream",
     "name": "stdout",
     "text": [
      "15 51\n26 62\n37 73\n48 84\n59 95\n"
     ]
    }
   ],
   "source": [
    "c_age = list(range(1, 101))\n",
    "p_age = 36\n",
    "\n",
    "for c in c_age:\n",
    "    p = c + p_age\n",
    "    c = str(c)\n",
    "    rev_age = c[::-1]\n",
    "    rev_age = int(rev_age)\n",
    "    if rev_age == p:\n",
    "        print(c, p)\n",
    "    # end if\n",
    "    # print(c, m)\n",
    "# end for"
   ]
  },
  {
   "cell_type": "code",
   "execution_count": null,
   "metadata": {},
   "outputs": [],
   "source": []
  }
 ]
}