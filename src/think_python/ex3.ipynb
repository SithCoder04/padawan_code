{
 "metadata": {
  "language_info": {
   "codemirror_mode": {
    "name": "ipython",
    "version": 3
   },
   "file_extension": ".py",
   "mimetype": "text/x-python",
   "name": "python",
   "nbconvert_exporter": "python",
   "pygments_lexer": "ipython3",
   "version": "3.8.8"
  },
  "orig_nbformat": 2,
  "kernelspec": {
   "name": "python388jvsc74a57bd0915e36cd6b6dd75b40ca0abb93570bcf58d329ed6a68c1ca68dc2086442c841a",
   "display_name": "Python 3.8.8 64-bit ('base': conda)"
  }
 },
 "nbformat": 4,
 "nbformat_minor": 2,
 "cells": [
  {
   "cell_type": "code",
   "execution_count": 1,
   "metadata": {},
   "outputs": [],
   "source": [
    "import math"
   ]
  },
  {
   "cell_type": "code",
   "execution_count": 2,
   "metadata": {},
   "outputs": [],
   "source": [
    "def my_fun():\n",
    "    temp = 64\n",
    "    square_root = math.sqrt((temp/1) % (2+3))\n",
    "    print(square_root)"
   ]
  },
  {
   "cell_type": "code",
   "execution_count": 3,
   "metadata": {},
   "outputs": [
    {
     "output_type": "stream",
     "name": "stdout",
     "text": [
      "<function my_fun at 0x000001EB3672C3A0>\n<class 'function'>\n"
     ]
    }
   ],
   "source": [
    "print(my_fun)\n",
    "print(type(my_fun))"
   ]
  },
  {
   "cell_type": "code",
   "execution_count": 4,
   "metadata": {},
   "outputs": [
    {
     "output_type": "stream",
     "name": "stdout",
     "text": [
      "<function my_fun at 0x000001EB3672C3A0>\n<class 'function'>\n2.0\n"
     ]
    }
   ],
   "source": [
    "x = my_fun\n",
    "print(x)\n",
    "print(type(x))\n",
    "x()"
   ]
  },
  {
   "cell_type": "code",
   "execution_count": 5,
   "metadata": {},
   "outputs": [
    {
     "output_type": "stream",
     "name": "stdout",
     "text": [
      "9.0\n8.0\n"
     ]
    }
   ],
   "source": [
    "print(math.pow(3, 2))\n",
    "print(math.pow(2, 3))"
   ]
  },
  {
   "cell_type": "code",
   "execution_count": 6,
   "metadata": {},
   "outputs": [
    {
     "output_type": "execute_result",
     "data": {
      "text/plain": [
       "'\\nExercise 3.1. Write a function named right_justify that takes a string named s as a parameter\\nand prints the string with enough leading spaces so that the last letter of the string is in column 70\\nof the display\\n'"
      ]
     },
     "metadata": {},
     "execution_count": 6
    }
   ],
   "source": [
    "'''\n",
    "Exercise 3.1. Write a function named right_justify that takes a string named s as a parameter\n",
    "and prints the string with enough leading spaces so that the last letter of the string is in column 70\n",
    "of the display\n",
    "'''"
   ]
  },
  {
   "cell_type": "code",
   "execution_count": 7,
   "metadata": {},
   "outputs": [],
   "source": [
    "def right_justfy(s):\n",
    "    l = len(s)\n",
    "    t_s = 70\n",
    "    n_s = t_s - l\n",
    "    str_1 = ' '*n_s\n",
    "    full_str = str_1 + s\n",
    "    # x = '{:>70s}'.format(s)\n",
    "    # print(len(x))\n",
    "    # print(x)\n",
    "    print(full_str)\n",
    "    return "
   ]
  },
  {
   "cell_type": "code",
   "execution_count": 8,
   "metadata": {},
   "outputs": [
    {
     "output_type": "stream",
     "name": "stdout",
     "text": [
      "                                                                kshiti\n"
     ]
    }
   ],
   "source": [
    "right_justfy('kshiti')"
   ]
  },
  {
   "cell_type": "code",
   "execution_count": 9,
   "metadata": {},
   "outputs": [
    {
     "output_type": "execute_result",
     "data": {
      "text/plain": [
       "\"\\nExercise 3.2. A function object is a value you can assign to a variable or pass as an argument. For\\nexample, do_twice is a function that takes a function object as an argument and calls it twice:\\ndef do_twice(f):\\nf()\\nf()\\nHere’s an example that uses do_twice to call a function named print_spam twice.\\ndef print_spam():\\nprint('spam')\\ndo_twice(print_spam)\\n1. Type this example into a script and test it.\\n2. Modify do_twice so that it takes two arguments, a function object and a value, and calls the\\nfunction twice, passing the value as an argument.\\n3. Copy the definition of print_twice from earlier in this chapter to your script.\\n4. Use the modified version of do_twice to call print_twice twice, passing 'spam' as an\\nargument.\\n5. Define a new function called do_four that takes a function object and a value and calls the\\nfunction four times, passing the value as a parameter. There should be only two statements in\\nthe body of this function, not four.\\n\""
      ]
     },
     "metadata": {},
     "execution_count": 9
    }
   ],
   "source": [
    "'''\n",
    "Exercise 3.2. A function object is a value you can assign to a variable or pass as an argument. For\n",
    "example, do_twice is a function that takes a function object as an argument and calls it twice:\n",
    "def do_twice(f):\n",
    "f()\n",
    "f()\n",
    "Here’s an example that uses do_twice to call a function named print_spam twice.\n",
    "def print_spam():\n",
    "print('spam')\n",
    "do_twice(print_spam)\n",
    "1. Type this example into a script and test it.\n",
    "2. Modify do_twice so that it takes two arguments, a function object and a value, and calls the\n",
    "function twice, passing the value as an argument.\n",
    "3. Copy the definition of print_twice from earlier in this chapter to your script.\n",
    "4. Use the modified version of do_twice to call print_twice twice, passing 'spam' as an\n",
    "argument.\n",
    "5. Define a new function called do_four that takes a function object and a value and calls the\n",
    "function four times, passing the value as a parameter. There should be only two statements in\n",
    "the body of this function, not four.\n",
    "'''"
   ]
  },
  {
   "cell_type": "code",
   "execution_count": 10,
   "metadata": {},
   "outputs": [],
   "source": [
    "def print_twice(arg):\n",
    "    print(arg)\n",
    "    print(arg)\n",
    "    return"
   ]
  },
  {
   "cell_type": "code",
   "execution_count": 11,
   "metadata": {},
   "outputs": [],
   "source": [
    "def do_twice(f, val):\n",
    "    f(val)\n",
    "    f(val)\n",
    "    return"
   ]
  },
  {
   "cell_type": "code",
   "execution_count": 12,
   "metadata": {},
   "outputs": [
    {
     "output_type": "stream",
     "name": "stdout",
     "text": [
      "spam\nspam\nspam\nspam\n"
     ]
    }
   ],
   "source": [
    "do_twice(print_twice, 'spam')"
   ]
  },
  {
   "cell_type": "code",
   "execution_count": 13,
   "metadata": {},
   "outputs": [
    {
     "output_type": "execute_result",
     "data": {
      "text/plain": [
       "\"\\nExercise 3.3. Note: This exercise should be done using only the statements and other features we have learned so far.\\n1. Write a function that draws a grid like the following:\\n+ - - - - + - - - - +\\n|         |         |\\n|         |         |\\n|         |         |\\n|         |         |\\n+ - - - - + - - - - +\\n|         |         |\\n|         |         |\\n|         |         |\\n|         |         |\\n+ - - - - + - - - - +\\nHint: to print more than one value on a line, you can print a comma-separated sequence of values:\\nprint('+', '-')\\nBy default, print advances to the next line, but you can override that behavior and put a space at the end, like this:\\nprint('+', end=' ')\\nprint('-')\\nThe output of these statements is '+ -' on the same line. The output from the next print statement would begin on the next line.\\n\""
      ]
     },
     "metadata": {},
     "execution_count": 13
    }
   ],
   "source": [
    "'''\n",
    "Exercise 3.3. Note: This exercise should be done using only the statements and other features we have learned so far.\n",
    "1. Write a function that draws a grid like the following:\n",
    "+ - - - - + - - - - +\n",
    "|         |         |\n",
    "|         |         |\n",
    "|         |         |\n",
    "|         |         |\n",
    "+ - - - - + - - - - +\n",
    "|         |         |\n",
    "|         |         |\n",
    "|         |         |\n",
    "|         |         |\n",
    "+ - - - - + - - - - +\n",
    "Hint: to print more than one value on a line, you can print a comma-separated sequence of values:\n",
    "print('+', '-')\n",
    "By default, print advances to the next line, but you can override that behavior and put a space at the end, like this:\n",
    "print('+', end=' ')\n",
    "print('-')\n",
    "The output of these statements is '+ -' on the same line. The output from the next print statement would begin on the next line.\n",
    "'''"
   ]
  },
  {
   "cell_type": "code",
   "execution_count": 14,
   "metadata": {},
   "outputs": [],
   "source": [
    "def print_line_space():\n",
    "    for k in range(4):\n",
    "        for i in range(1):\n",
    "            print('|', end=' ')\n",
    "            for j in range(4):\n",
    "                print(' ', end=' ')\n",
    "            # end for\n",
    "        # end for\n",
    "        print('|')\n",
    "    # end for\n",
    "    return"
   ]
  },
  {
   "cell_type": "code",
   "execution_count": 15,
   "metadata": {},
   "outputs": [],
   "source": [
    "def print_plus_minus():\n",
    "    for i in range(1):\n",
    "        print('+', end=' ')\n",
    "        for j in range(4):\n",
    "            print('-', end=' ')\n",
    "        # end for\n",
    "    # end for\n",
    "    print('+')\n",
    "    return"
   ]
  },
  {
   "cell_type": "code",
   "execution_count": 16,
   "metadata": {},
   "outputs": [],
   "source": [
    "def print_cell():\n",
    "    print_plus_minus()\n",
    "    print_line_space()\n",
    "    print_plus_minus()"
   ]
  },
  {
   "cell_type": "code",
   "execution_count": 17,
   "metadata": {},
   "outputs": [
    {
     "output_type": "stream",
     "name": "stdout",
     "text": [
      "+ - - - - +\n|         |\n|         |\n|         |\n|         |\n+ - - - - +\n+ - - - - +\n|         |\n|         |\n|         |\n|         |\n+ - - - - +\n"
     ]
    }
   ],
   "source": [
    "print_cell()\n",
    "print_cell()"
   ]
  },
  {
   "cell_type": "code",
   "execution_count": 18,
   "metadata": {},
   "outputs": [],
   "source": [
    "def grid(r, c):\n",
    "    for i in range(r):\n",
    "        print_plus_minus()\n",
    "        for j in range(c):\n",
    "            print_line_space()\n",
    "        # end for\n",
    "    # end for\n",
    "    print_plus_minus()\n",
    "    return"
   ]
  },
  {
   "cell_type": "code",
   "execution_count": 19,
   "metadata": {},
   "outputs": [],
   "source": [
    "def main():\n",
    "    no_of_rows = int(input('Enter the number of rows: '))\n",
    "    no_of_columns = int(input('Enter the number of columns: '))\n",
    "    grid(no_of_rows, no_of_columns)"
   ]
  },
  {
   "cell_type": "code",
   "execution_count": 20,
   "metadata": {},
   "outputs": [
    {
     "output_type": "error",
     "ename": "ValueError",
     "evalue": "invalid literal for int() with base 10: ''",
     "traceback": [
      "\u001b[1;31m---------------------------------------------------------------------------\u001b[0m",
      "\u001b[1;31mValueError\u001b[0m                                Traceback (most recent call last)",
      "\u001b[1;32m<ipython-input-20-c7bc734e5e35>\u001b[0m in \u001b[0;36m<module>\u001b[1;34m\u001b[0m\n\u001b[0;32m      1\u001b[0m \u001b[1;32mif\u001b[0m \u001b[0m__name__\u001b[0m \u001b[1;33m==\u001b[0m \u001b[1;34m'__main__'\u001b[0m\u001b[1;33m:\u001b[0m\u001b[1;33m\u001b[0m\u001b[1;33m\u001b[0m\u001b[0m\n\u001b[1;32m----> 2\u001b[1;33m     \u001b[0mmain\u001b[0m\u001b[1;33m(\u001b[0m\u001b[1;33m)\u001b[0m\u001b[1;33m\u001b[0m\u001b[1;33m\u001b[0m\u001b[0m\n\u001b[0m",
      "\u001b[1;32m<ipython-input-19-b4a4c9045804>\u001b[0m in \u001b[0;36mmain\u001b[1;34m()\u001b[0m\n\u001b[0;32m      1\u001b[0m \u001b[1;32mdef\u001b[0m \u001b[0mmain\u001b[0m\u001b[1;33m(\u001b[0m\u001b[1;33m)\u001b[0m\u001b[1;33m:\u001b[0m\u001b[1;33m\u001b[0m\u001b[1;33m\u001b[0m\u001b[0m\n\u001b[1;32m----> 2\u001b[1;33m     \u001b[0mno_of_rows\u001b[0m \u001b[1;33m=\u001b[0m \u001b[0mint\u001b[0m\u001b[1;33m(\u001b[0m\u001b[0minput\u001b[0m\u001b[1;33m(\u001b[0m\u001b[1;34m'Enter the number of rows: '\u001b[0m\u001b[1;33m)\u001b[0m\u001b[1;33m)\u001b[0m\u001b[1;33m\u001b[0m\u001b[1;33m\u001b[0m\u001b[0m\n\u001b[0m\u001b[0;32m      3\u001b[0m     \u001b[0mno_of_columns\u001b[0m \u001b[1;33m=\u001b[0m \u001b[0mint\u001b[0m\u001b[1;33m(\u001b[0m\u001b[0minput\u001b[0m\u001b[1;33m(\u001b[0m\u001b[1;34m'Enter the number of columns: '\u001b[0m\u001b[1;33m)\u001b[0m\u001b[1;33m)\u001b[0m\u001b[1;33m\u001b[0m\u001b[1;33m\u001b[0m\u001b[0m\n\u001b[0;32m      4\u001b[0m     \u001b[0mgrid\u001b[0m\u001b[1;33m(\u001b[0m\u001b[0mno_of_rows\u001b[0m\u001b[1;33m,\u001b[0m \u001b[0mno_of_columns\u001b[0m\u001b[1;33m)\u001b[0m\u001b[1;33m\u001b[0m\u001b[1;33m\u001b[0m\u001b[0m\n",
      "\u001b[1;31mValueError\u001b[0m: invalid literal for int() with base 10: ''"
     ]
    }
   ],
   "source": [
    "if __name__ == '__main__':\n",
    "    main()"
   ]
  },
  {
   "cell_type": "code",
   "execution_count": null,
   "metadata": {},
   "outputs": [],
   "source": []
  }
 ]
}