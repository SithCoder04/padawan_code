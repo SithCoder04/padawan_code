{
 "metadata": {
  "language_info": {
   "codemirror_mode": {
    "name": "ipython",
    "version": 3
   },
   "file_extension": ".py",
   "mimetype": "text/x-python",
   "name": "python",
   "nbconvert_exporter": "python",
   "pygments_lexer": "ipython3",
   "version": "3.8.8"
  },
  "orig_nbformat": 2,
  "kernelspec": {
   "name": "python388jvsc74a57bd0915e36cd6b6dd75b40ca0abb93570bcf58d329ed6a68c1ca68dc2086442c841a",
   "display_name": "Python 3.8.8 64-bit ('base': conda)"
  }
 },
 "nbformat": 4,
 "nbformat_minor": 2,
 "cells": [
  {
   "cell_type": "code",
   "execution_count": null,
   "metadata": {},
   "outputs": [],
   "source": [
    "names = ['KSHITI', 'anusha', 'chaitra', 'kaashvi', 'E', 'F']\n",
    "# names.sort()\n",
    "print(names)\n",
    "# print(sum(names))\n",
    "for i in names:\n",
    "    if i.isupper():\n",
    "        print('yes')\n",
    "'''\n",
    "for i in range(len(names)):\n",
    "    name = names[i]\n",
    "    print('{} '.format(i) + '{}'.format(name))\n",
    "# end for\n",
    "'''"
   ]
  },
  {
   "cell_type": "code",
   "execution_count": null,
   "metadata": {},
   "outputs": [],
   "source": [
    "def fun(c):\n",
    "    return c + '1'"
   ]
  },
  {
   "cell_type": "code",
   "execution_count": null,
   "metadata": {},
   "outputs": [],
   "source": [
    "l = ['a', 'b', 'c', 'd']\n",
    "l.map(fun)"
   ]
  },
  {
   "cell_type": "code",
   "execution_count": null,
   "metadata": {},
   "outputs": [],
   "source": [
    "d = {'n': 1, 'o': 2}\n",
    "print(d)\n",
    "del(d['n'])\n",
    "print(d)"
   ]
  },
  {
   "cell_type": "code",
   "execution_count": null,
   "metadata": {},
   "outputs": [],
   "source": [
    "s = 'spam'\n",
    "print(s)\n",
    "l = list(s)\n",
    "print(l)\n",
    "p = ''.join(l)\n",
    "print(p)"
   ]
  },
  {
   "cell_type": "code",
   "execution_count": null,
   "metadata": {},
   "outputs": [],
   "source": [
    "a = b = 'banana'\n",
    "# b = 'banana'\n",
    "a is b"
   ]
  },
  {
   "cell_type": "code",
   "execution_count": null,
   "metadata": {},
   "outputs": [],
   "source": [
    "a = [1, 2, 3]\n",
    "b = [1, 2, 3]\n",
    "a is b"
   ]
  },
  {
   "cell_type": "code",
   "execution_count": null,
   "metadata": {},
   "outputs": [],
   "source": [
    "def func(l):\n",
    "    l[0] = 0\n",
    "    return l\n",
    "\n",
    "def fun_i(i):\n",
    "    i = i + 10\n",
    "    return i"
   ]
  },
  {
   "cell_type": "code",
   "execution_count": null,
   "metadata": {},
   "outputs": [],
   "source": [
    "a = [1,2,3]\n",
    "print(a)\n",
    "l = func(a)\n",
    "print(a)\n",
    "i = 15\n",
    "j = fun_i(i)\n",
    "print(i, j)"
   ]
  },
  {
   "cell_type": "code",
   "execution_count": null,
   "metadata": {},
   "outputs": [],
   "source": [
    "a = [1,2,3]\n",
    "b = a\n",
    "# a is b\n",
    "b[0] = 0\n",
    "print(a, b)\n",
    "a is b"
   ]
  },
  {
   "cell_type": "code",
   "execution_count": null,
   "metadata": {},
   "outputs": [],
   "source": [
    "def nested_sum(my_list):\n",
    "    my_sum = 0\n",
    "    for i in my_list:\n",
    "        if isinstance(i, int):\n",
    "            my_sum = my_sum + i\n",
    "        elif isinstance(i, list):\n",
    "            for j in i:\n",
    "                my_sum = my_sum + j\n",
    "            # end for\n",
    "        else:\n",
    "            print('Improper input')\n",
    "        # end if\n",
    "    # end for\n",
    "    return my_sum"
   ]
  },
  {
   "cell_type": "code",
   "execution_count": null,
   "metadata": {},
   "outputs": [],
   "source": [
    "my_sum = nested_sum([[1, 2], [3], [4, 5, 6], 1])\n",
    "print(my_sum)"
   ]
  },
  {
   "cell_type": "code",
   "execution_count": null,
   "metadata": {},
   "outputs": [],
   "source": [
    "def cumsum(l):\n",
    "    l = [1, 2, 3]\n",
    "    l2 = []\n",
    "    for i in range(len(l)):\n",
    "        my_sum = 0\n",
    "        for j in range(i + 1):\n",
    "            my_sum = my_sum + l[j]\n",
    "        # end for\n",
    "        l2.append(my_sum)\n",
    "    # end for\n",
    "    return l2"
   ]
  },
  {
   "cell_type": "code",
   "execution_count": null,
   "metadata": {},
   "outputs": [],
   "source": [
    "l2 = cumsum([1, 2, 3])\n",
    "print(l2)"
   ]
  },
  {
   "cell_type": "code",
   "execution_count": null,
   "metadata": {},
   "outputs": [],
   "source": [
    "def middle(l):\n",
    "    my_list = l[1:-1]\n",
    "    '''\n",
    "    for i in l:\n",
    "        my_list.append(i)\n",
    "    # end for\n",
    "    first_item = my_list.pop(0)\n",
    "    last_item = my_list.pop(-1)\n",
    "    '''\n",
    "    print(my_list is l)\n",
    "    return my_list"
   ]
  },
  {
   "cell_type": "code",
   "execution_count": null,
   "metadata": {},
   "outputs": [],
   "source": [
    "l1 = [1, 2, 3, 4]\n",
    "r = middle(l1)\n",
    "print(r, l1)"
   ]
  },
  {
   "cell_type": "code",
   "execution_count": null,
   "metadata": {},
   "outputs": [],
   "source": [
    "def has_duplicates(l):\n",
    "    for i in range(len(l)):\n",
    "        element1 = l[i]\n",
    "        for element2 in l[i+1::]:\n",
    "            if element1 == element2:\n",
    "                result = True\n",
    "                break\n",
    "            else:\n",
    "                result = False\n",
    "            # end if\n",
    "        # end for\n",
    "    # end for\n",
    "    return result"
   ]
  },
  {
   "cell_type": "code",
   "execution_count": null,
   "metadata": {},
   "outputs": [],
   "source": [
    "res = has_duplicates([1, 2, 3, 4])\n",
    "print(res)"
   ]
  },
  {
   "cell_type": "code",
   "execution_count": null,
   "metadata": {},
   "outputs": [],
   "source": [
    "def is_anagram(s1, s2):\n",
    "    result1 = None\n",
    "    result2 = None\n",
    "    final_result = None\n",
    "    for l1 in s1:\n",
    "        if l1 in s2:\n",
    "            result1 = True\n",
    "        else:\n",
    "            result1 = False\n",
    "            break\n",
    "        # end if\n",
    "    # end for\n",
    "    for l2 in s2:\n",
    "        if l2 in s1:\n",
    "            result2 = True\n",
    "        else:\n",
    "            result2 = False\n",
    "            break\n",
    "        # end if\n",
    "    # end for\n",
    "    if result1 and result2:\n",
    "        final_result = True\n",
    "    else:\n",
    "        final_result = False\n",
    "    # end if\n",
    "    return final_result"
   ]
  },
  {
   "cell_type": "code",
   "execution_count": null,
   "metadata": {},
   "outputs": [],
   "source": [
    "res = is_anagram('kshibti', 'iskhbti')\n",
    "print(res)"
   ]
  },
  {
   "cell_type": "code",
   "execution_count": null,
   "metadata": {},
   "outputs": [],
   "source": [
    "def chop(l):\n",
    "    f_i = l.pop(0)\n",
    "    l_i = l.pop(-1)\n",
    "    return "
   ]
  },
  {
   "cell_type": "code",
   "execution_count": null,
   "metadata": {},
   "outputs": [],
   "source": [
    "m_l = [1, 2, 3, 4]\n",
    "chop(m_l)\n",
    "print(m_l)"
   ]
  },
  {
   "cell_type": "code",
   "execution_count": null,
   "metadata": {},
   "outputs": [],
   "source": [
    "def is_sorted_int(l):\n",
    "    pre_val = 0\n",
    "    for cur_val in l:\n",
    "        if cur_val > pre_val:\n",
    "            result = True\n",
    "            pre_val = cur_val\n",
    "        else:\n",
    "            result = False\n",
    "        # end if\n",
    "    # end for\n",
    "    return result"
   ]
  },
  {
   "cell_type": "code",
   "execution_count": null,
   "metadata": {},
   "outputs": [],
   "source": [
    "def is_sorted_str(l):\n",
    "    pre_char = 0\n",
    "    for cur_char in l:\n",
    "        if ord(cur_char) > pre_char:\n",
    "            result = True\n",
    "            pre_char = ord(cur_char)\n",
    "        else:\n",
    "            result = False\n",
    "        # end if\n",
    "    # end for\n",
    "    return result"
   ]
  },
  {
   "cell_type": "code",
   "execution_count": null,
   "metadata": {},
   "outputs": [],
   "source": [
    "l = [1, 2, 3, 5, 4]\n",
    "length = len(l)\n",
    "counter_int = 0\n",
    "counter_str = 0\n",
    "for i in l:\n",
    "    if isinstance(i, int):\n",
    "      counter_int = counter_int + 1  \n",
    "    elif isinstance(i, str):\n",
    "        counter_str = counter_str + 1\n",
    "    # end if\n",
    "# end for\n",
    "if length == counter_int:\n",
    "    res = is_sorted_int(l)\n",
    "    print(res)\n",
    "elif length == counter_str:\n",
    "    res = is_sorted_str(l)\n",
    "    print(res)\n",
    "else:\n",
    "    print('Invalid input')"
   ]
  },
  {
   "cell_type": "code",
   "execution_count": null,
   "metadata": {},
   "outputs": [],
   "source": [
    "my_file = open('C:\\\\Users\\\\gumas\\\\OneDrive\\\\Documents\\\\KSHITI\\\\electronics and python\\\\words.txt')"
   ]
  },
  {
   "cell_type": "code",
   "execution_count": null,
   "metadata": {
    "tags": [
     "outputPrepend"
    ]
   },
   "outputs": [],
   "source": [
    "my_list = []\n",
    "for l in my_file:\n",
    "    l = l.strip()\n",
    "    my_list.append(l)\n",
    "# end for\n",
    "# my_list = my_list[:1000]\n",
    "#my_list.append('abcd')\n",
    "# my_list.append('dcba')\n",
    "print(my_list)"
   ]
  },
  {
   "cell_type": "code",
   "execution_count": null,
   "metadata": {},
   "outputs": [],
   "source": [
    "word_list = []\n",
    "for line in my_file:\n",
    "    word = line.strip()\n",
    "    word_list = word_list + [word]\n",
    "# end for\n",
    "print(word_list[:100])"
   ]
  },
  {
   "cell_type": "code",
   "execution_count": null,
   "metadata": {},
   "outputs": [],
   "source": [
    "l1 = [1, 2, 3, 4]\n",
    "l2 = list('abcd')\n",
    "l = l1 + l2\n",
    "print(l)"
   ]
  },
  {
   "cell_type": "code",
   "execution_count": null,
   "metadata": {
    "tags": []
   },
   "outputs": [],
   "source": [
    "ret_list = []\n",
    "for e in range(len(my_list)):\n",
    "    cur_element = my_list[e]\n",
    "    rev_word = cur_element[::-1]\n",
    "    if rev_word in my_list:\n",
    "        ret_list.append(rev_word)\n",
    "        # ret_list.append(cur_element)\n",
    "    else:\n",
    "        continue\n",
    "    # end if\n",
    "# end for\n",
    "print(ret_list)"
   ]
  },
  {
   "cell_type": "code",
   "execution_count": null,
   "metadata": {},
   "outputs": [],
   "source": [
    "def is_reverse_pair(word1, word2):\n",
    "    result = None\n",
    "    rev_word = word1[::-1]\n",
    "    if rev_word == word2:\n",
    "        result = True\n",
    "    else:\n",
    "        result = False\n",
    "    # end if\n",
    "    return result"
   ]
  },
  {
   "cell_type": "code",
   "execution_count": null,
   "metadata": {},
   "outputs": [],
   "source": [
    "res = is_reverse_pair('abcd', 'dcba')\n",
    "print(res)"
   ]
  },
  {
   "cell_type": "code",
   "execution_count": null,
   "metadata": {},
   "outputs": [],
   "source": [
    "reverse_words = []\n",
    "for i in range(len(my_list)):\n",
    "    word1 = my_list[i]\n",
    "    for word2 in my_list[i + 1::]:\n",
    "        if word1 == word2:\n",
    "            pass\n",
    "        else:\n",
    "            res = is_reverse_pair(word1, word2)\n",
    "            if res == True:\n",
    "                rev_true = [word1, word2]\n",
    "                reverse_words.append(rev_true)\n",
    "            else:\n",
    "                pass\n",
    "            # end if\n",
    "        # end if\n",
    "    # end for\n",
    "# end for\n",
    "print(reverse_words)               "
   ]
  },
  {
   "cell_type": "code",
   "execution_count": 51,
   "metadata": {},
   "outputs": [],
   "source": [
    "def interlocked(word1, word2):\n",
    "    interlocked_word = ''\n",
    "    len_word1 = len(word1)\n",
    "    len_word2 = len(word2)\n",
    "    if len_word1 > len_word2:\n",
    "        remaining_letters = word1[len_word2::]\n",
    "        for i in range(len_word2):\n",
    "            letter_word1 = word1[i]\n",
    "            letter_word2 = word2[i]\n",
    "            interlocked_word = interlocked_word + letter_word1 + letter_word2\n",
    "        # end for\n",
    "        interlocked_word = interlocked_word + remaining_letters\n",
    "    elif len_word2 > len_word1:\n",
    "        remaining_letters = word2[len_word1::]\n",
    "        for i in range(len_word1):\n",
    "            letter_word1 = word1[i]\n",
    "            letter_word2 = word2[i]\n",
    "            interlocked_word = interlocked_word + letter_word1 + letter_word2\n",
    "        # end for\n",
    "        interlocked_word = interlocked_word + remaining_letters\n",
    "    else:\n",
    "        for i in range(len_word1):          # or word2\n",
    "            letter_word1 = word1[i]\n",
    "            letter_word2 = word2[i]\n",
    "            interlocked_word = interlocked_word + letter_word1 + letter_word2\n",
    "        # end for\n",
    "    # end if\n",
    "    return interlocked_word"
   ]
  },
  {
   "cell_type": "code",
   "execution_count": 54,
   "metadata": {},
   "outputs": [
    {
     "output_type": "stream",
     "name": "stdout",
     "text": [
      "axbyczpq\n"
     ]
    }
   ],
   "source": [
    "res = interlocked('abc', 'xyzpq')\n",
    "print(res)"
   ]
  },
  {
   "cell_type": "code",
   "execution_count": null,
   "metadata": {},
   "outputs": [],
   "source": []
  }
 ]
}