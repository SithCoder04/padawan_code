{
 "cells": [
  {
   "cell_type": "code",
   "execution_count": null,
   "metadata": {},
   "outputs": [],
   "source": [
    "import sys"
   ]
  },
  {
   "cell_type": "code",
   "execution_count": null,
   "metadata": {},
   "outputs": [],
   "source": [
    "while True:\n",
    "\t# import information from the user\n",
    "\tprint('Which figure''s information whould you like to see : circle (C) or rectangle (R): ')\n",
    "\tprint('Press:\\nc for circle\\nr fpr rectangle')\n",
    "\tuser_input = input()\n",
    "\tuser_input = user_input.lower()\n",
    "\n",
    "\t# see what information the user wants to view in the circle and rectangle\n",
    "\t# when the user wants to see the information of circle\n",
    "\tif user_input == 'c':\n",
    "\t\t# check if the user wants to view the circumference or area of the cicle and import the required information\n",
    "\t\tcircle_input = input('Whould you like to see the circumference or area of the circle?')\n",
    "\t\tcircle_input = str(circle_input)\n",
    "\t\t# import the radius from the user\n",
    "\t\tradius = input('Enter the radius of the circle : ')\n",
    "\t\tradius = int(radius)\n",
    "\t\t# declare that pi = 22 divided by 7\n",
    "\t\tpi = float(22) / 7\n",
    "\t\t# if the user wants to view the circumference of the circle\n",
    "\t\tif circle_input == 'circumference':\n",
    "\t\t\tcircumference = 2 * pi * radius\n",
    "\t\t\tprint('Circumference of the circle = {}'.format(circumference))\n",
    "\t\t# if the user wants to view the area of the circle\n",
    "\t\telse:\n",
    "\t\t\tarea = pi * radius * radius\n",
    "\t\t\tprint('Area of the circle = {}'.format(area))\n",
    "\t# when the user wants to see the information of rectangle\n",
    "\telif user_input == 'r':\n",
    "\t\t# import the length from the user\n",
    "\t\tlength = input('Enter the length of the rectangle : ')\n",
    "\t\tlength = float(length)\n",
    "\t\t# import the breadth from the user\n",
    "\t\tbreadth = input('Enter the breadth of the rectangle : ')\n",
    "\t\tbreadth = float(breadth)\n",
    "\t\trect_input = input('Whould you like to see the perimeter or area of the rectangle?')\n",
    "\t\trect_input = str(rect_input)\n",
    "\t\t# when the user wants to see the perimeter of the rectangle\n",
    "\t\tif rect_input == 'perimeter':\n",
    "\t\t\tperimeter = 2 * (length + breadth)\n",
    "\t\t\tprint('The perimeter of the rectangle is : {}'.format(perimeter))\n",
    "\t\t# when the user wants to see the area of the rectangle\n",
    "\t\telse:\n",
    "\t\t\tarea = length * breadth\n",
    "\t\t\tprint('The area of the rectangle is : {}'.format(area))\n",
    "\t\t# end if\n",
    "\telse:\n",
    "\t\tprint('Unrecognised input')\n",
    "\t# end if\n",
    "# end while"
   ]
  }
 ],
 "metadata": {
  "kernelspec": {
   "display_name": "base",
   "language": "python",
   "name": "python3"
  },
  "language_info": {
   "name": "python",
   "version": "3.8.8"
  }
 },
 "nbformat": 4,
 "nbformat_minor": 2
}
